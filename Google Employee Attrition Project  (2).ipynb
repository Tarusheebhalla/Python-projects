{
 "cells": [
  {
   "cell_type": "code",
   "execution_count": 362,
   "id": "45a1d774",
   "metadata": {},
   "outputs": [],
   "source": [
    "# Import libraries\n",
    "import pandas as pd  # Used for data manipulation and analysis\n",
    "import numpy as np  # Used for numerical operations and array manipulation\n",
    "import seaborn as sn  # Used for data visualization based on matplotlib\n",
    "import matplotlib.pyplot as plt  # Used for creating static, animated, and interactive visualizations\n",
    "\n",
    "from sklearn.model_selection import train_test_split, cross_val_score  # For splitting the dataset into training and testing sets and for cross-validation\n",
    "from sklearn.linear_model import LogisticRegression  # For performing logistic regression analysis\n",
    "from sklearn.ensemble import RandomForestClassifier  # For building a random forest classifier model\n",
    "from sklearn.metrics import accuracy_score, classification_report, confusion_matrix  # For evaluating model performance\n",
    "from sklearn.metrics import accuracy_score, confusion_matrix, roc_curve, auc  # For additional performance metrics, ROC curve, and area under the curve\n",
    "from imblearn.over_sampling import SMOTE  # For handling imbalanced datasets by oversampling the minority class\n",
    "from sklearn.preprocessing import StandardScaler  # For standardizing features by removing the mean and scaling to unit variance\n"
   ]
  },
  {
   "cell_type": "code",
   "execution_count": 363,
   "id": "9d4f05ab",
   "metadata": {},
   "outputs": [],
   "source": [
    "# Import pandas library for data manipulation\n",
    "import pandas as pd  # Used for data manipulation and analysis\n",
    "\n",
    "# Read an Excel file into a DataFrame\n",
    "df_16 = pd.read_excel(r\"C:\\Users\\Tarushee\\OneDrive\\Documents\\My Data Sources\\Desktop\\Main Datasets\\ML Dataset\\HR Analytics\\staff utlz latest 16-17_masked.xlsx\") \n",
    "# Loads the specified Excel file into a DataFrame\n"
   ]
  },
  {
   "cell_type": "code",
   "execution_count": 217,
   "id": "9d4c82ad",
   "metadata": {},
   "outputs": [
    {
     "data": {
      "text/html": [
       "<div>\n",
       "<style scoped>\n",
       "    .dataframe tbody tr th:only-of-type {\n",
       "        vertical-align: middle;\n",
       "    }\n",
       "\n",
       "    .dataframe tbody tr th {\n",
       "        vertical-align: top;\n",
       "    }\n",
       "\n",
       "    .dataframe thead th {\n",
       "        text-align: right;\n",
       "    }\n",
       "</style>\n",
       "<table border=\"1\" class=\"dataframe\">\n",
       "  <thead>\n",
       "    <tr style=\"text-align: right;\">\n",
       "      <th></th>\n",
       "      <th>Employee No</th>\n",
       "      <th>Profit Center</th>\n",
       "      <th>Employee Name</th>\n",
       "      <th>Employee Position</th>\n",
       "      <th>Employee Location</th>\n",
       "      <th>People Group</th>\n",
       "      <th>Employee Category</th>\n",
       "      <th>Supervisor name</th>\n",
       "      <th>Join Date</th>\n",
       "      <th>Current Status</th>\n",
       "      <th>Termination Date</th>\n",
       "      <th>Total Hours</th>\n",
       "      <th>Total Available Hours</th>\n",
       "      <th>Work Hours</th>\n",
       "      <th>Leave Hours</th>\n",
       "      <th>Training Hours</th>\n",
       "      <th>BD Hours</th>\n",
       "      <th>NC Hours</th>\n",
       "      <th>Utilization%</th>\n",
       "    </tr>\n",
       "  </thead>\n",
       "  <tbody>\n",
       "    <tr>\n",
       "      <th>0</th>\n",
       "      <td>1</td>\n",
       "      <td>PC - 1</td>\n",
       "      <td>Rochette Jilleen</td>\n",
       "      <td>Level 1</td>\n",
       "      <td>Location 3</td>\n",
       "      <td>Client Service Staff</td>\n",
       "      <td>SVP/VP</td>\n",
       "      <td>Idalina Lauraine</td>\n",
       "      <td>2000-09-30</td>\n",
       "      <td>Active</td>\n",
       "      <td>NaT</td>\n",
       "      <td>2080</td>\n",
       "      <td>1864.5</td>\n",
       "      <td>448.0</td>\n",
       "      <td>188</td>\n",
       "      <td>27.5</td>\n",
       "      <td>1431.5</td>\n",
       "      <td>18.0</td>\n",
       "      <td>0.240279</td>\n",
       "    </tr>\n",
       "  </tbody>\n",
       "</table>\n",
       "</div>"
      ],
      "text/plain": [
       "   Employee No Profit Center     Employee Name Employee Position  \\\n",
       "0            1        PC - 1  Rochette Jilleen           Level 1   \n",
       "\n",
       "  Employee Location          People Group Employee Category   Supervisor name  \\\n",
       "0        Location 3  Client Service Staff            SVP/VP  Idalina Lauraine   \n",
       "\n",
       "   Join Date Current Status Termination Date  Total Hours  \\\n",
       "0 2000-09-30         Active              NaT         2080   \n",
       "\n",
       "   Total Available Hours  Work Hours  Leave Hours  Training Hours  BD Hours  \\\n",
       "0                 1864.5       448.0          188            27.5    1431.5   \n",
       "\n",
       "   NC Hours Utilization%  \n",
       "0      18.0     0.240279  "
      ]
     },
     "execution_count": 217,
     "metadata": {},
     "output_type": "execute_result"
    }
   ],
   "source": [
    "df_17=pd.read_excel(r\"C:\\Users\\Tarushee\\OneDrive\\Documents\\My Data Sources\\Desktop\\Main Datasets\\ML Dataset\\HR Analytics\\staff utlz latest 17-18_masked.xlsx\")\n",
    "df_17.head(1)\n",
    "# Loads the specified Excel file into a DataFrame\n"
   ]
  },
  {
   "cell_type": "code",
   "execution_count": 218,
   "id": "eacda7ec",
   "metadata": {},
   "outputs": [
    {
     "data": {
      "text/html": [
       "<div>\n",
       "<style scoped>\n",
       "    .dataframe tbody tr th:only-of-type {\n",
       "        vertical-align: middle;\n",
       "    }\n",
       "\n",
       "    .dataframe tbody tr th {\n",
       "        vertical-align: top;\n",
       "    }\n",
       "\n",
       "    .dataframe thead th {\n",
       "        text-align: right;\n",
       "    }\n",
       "</style>\n",
       "<table border=\"1\" class=\"dataframe\">\n",
       "  <thead>\n",
       "    <tr style=\"text-align: right;\">\n",
       "      <th></th>\n",
       "      <th>Employee Number</th>\n",
       "      <th>Employee Name</th>\n",
       "      <th>YEAR of Birth</th>\n",
       "      <th>Gender</th>\n",
       "      <th>Leaving Reason</th>\n",
       "      <th>Previous Employer</th>\n",
       "      <th>Last Update Date</th>\n",
       "      <th>Latest  Available Rating</th>\n",
       "      <th>Emp Ref.</th>\n",
       "    </tr>\n",
       "  </thead>\n",
       "  <tbody>\n",
       "    <tr>\n",
       "      <th>0</th>\n",
       "      <td>4</td>\n",
       "      <td>Barbee Joey</td>\n",
       "      <td>1975</td>\n",
       "      <td>M</td>\n",
       "      <td>Career Growth</td>\n",
       "      <td>kadoo</td>\n",
       "      <td>2018-02-27</td>\n",
       "      <td>NaN</td>\n",
       "      <td>NaN</td>\n",
       "    </tr>\n",
       "  </tbody>\n",
       "</table>\n",
       "</div>"
      ],
      "text/plain": [
       "   Employee Number Employee Name  YEAR of Birth Gender Leaving Reason  \\\n",
       "0                4   Barbee Joey           1975      M  Career Growth   \n",
       "\n",
       "  Previous Employer Last Update Date  Latest  Available Rating Emp Ref.  \n",
       "0             kadoo       2018-02-27                       NaN      NaN  "
      ]
     },
     "execution_count": 218,
     "metadata": {},
     "output_type": "execute_result"
    }
   ],
   "source": [
    "term=pd.read_excel(r\"C:\\Users\\Tarushee\\OneDrive\\Documents\\My Data Sources\\Desktop\\Main Datasets\\ML Dataset\\HR Analytics\\Terminations 15-18.xlsx\")\n",
    "term.head(1)\n",
    "# Loads the specified Excel file into a DataFrame"
   ]
  },
  {
   "cell_type": "code",
   "execution_count": 364,
   "id": "be8dfc0a",
   "metadata": {},
   "outputs": [
    {
     "name": "stdout",
     "output_type": "stream",
     "text": [
      "<class 'pandas.core.frame.DataFrame'>\n",
      "RangeIndex: 1762 entries, 0 to 1761\n",
      "Data columns (total 24 columns):\n",
      " #   Column                 Non-Null Count  Dtype         \n",
      "---  ------                 --------------  -----         \n",
      " 0   Employee No            1762 non-null   int64         \n",
      " 1   New_id                 1762 non-null   object        \n",
      " 2   Profit Center          1762 non-null   object        \n",
      " 3   Employee Name          1762 non-null   object        \n",
      " 4   Employee Position      1762 non-null   object        \n",
      " 5   Employ_posi            1762 non-null   object        \n",
      " 6   Employee Location      1762 non-null   object        \n",
      " 7   Location               1762 non-null   int64         \n",
      " 8   People Group           1762 non-null   object        \n",
      " 9   Employee Category      1762 non-null   object        \n",
      " 10  Supervisor name        1762 non-null   object        \n",
      " 11  Join Date              1762 non-null   datetime64[ns]\n",
      " 12  Current Status         1762 non-null   object        \n",
      " 13  Termination Date       912 non-null    object        \n",
      " 14  Unnamed: 14            1762 non-null   datetime64[ns]\n",
      " 15  Final_date             1762 non-null   object        \n",
      " 16  Total Hours            1762 non-null   int64         \n",
      " 17  Total Available Hours  1762 non-null   float64       \n",
      " 18  Work Hours             1762 non-null   float64       \n",
      " 19  Leave Hours            1762 non-null   float64       \n",
      " 20  Training Hours         1762 non-null   float64       \n",
      " 21  BD Hours               1762 non-null   float64       \n",
      " 22  NC Hours               1762 non-null   float64       \n",
      " 23  Utilization%           1762 non-null   object        \n",
      "dtypes: datetime64[ns](2), float64(6), int64(3), object(13)\n",
      "memory usage: 330.5+ KB\n"
     ]
    }
   ],
   "source": [
    "# Display a concise summary of the DataFrame\n",
    "df_16.info()  # Shows the DataFrame's index, column names, non-null counts, and data types\n"
   ]
  },
  {
   "cell_type": "code",
   "execution_count": 365,
   "id": "9283eaf3",
   "metadata": {},
   "outputs": [
    {
     "name": "stdout",
     "output_type": "stream",
     "text": [
      "<class 'pandas.core.frame.DataFrame'>\n",
      "RangeIndex: 973 entries, 0 to 972\n",
      "Data columns (total 19 columns):\n",
      " #   Column                 Non-Null Count  Dtype         \n",
      "---  ------                 --------------  -----         \n",
      " 0   Employee No            973 non-null    int64         \n",
      " 1   Profit Center          973 non-null    object        \n",
      " 2   Employee Name          973 non-null    object        \n",
      " 3   Employee Position      973 non-null    object        \n",
      " 4   Employee Location      973 non-null    object        \n",
      " 5   People Group           973 non-null    object        \n",
      " 6   Employee Category      973 non-null    object        \n",
      " 7   Supervisor name        973 non-null    object        \n",
      " 8   Join Date              973 non-null    datetime64[ns]\n",
      " 9   Current Status         973 non-null    object        \n",
      " 10  Termination Date       973 non-null    object        \n",
      " 11  Total Hours            973 non-null    int64         \n",
      " 12  Total Available Hours  973 non-null    float64       \n",
      " 13  Work Hours             973 non-null    float64       \n",
      " 14  Leave Hours            973 non-null    int64         \n",
      " 15  Training Hours         973 non-null    float64       \n",
      " 16  BD Hours               973 non-null    float64       \n",
      " 17  NC Hours               973 non-null    float64       \n",
      " 18  Utilization%           973 non-null    float64       \n",
      "dtypes: datetime64[ns](1), float64(6), int64(3), object(9)\n",
      "memory usage: 144.6+ KB\n"
     ]
    }
   ],
   "source": [
    "df_17.info()\n",
    "# Shows the DataFrame's index, column names, non-null counts, and data types\n"
   ]
  },
  {
   "cell_type": "code",
   "execution_count": 221,
   "id": "47b4e7b6",
   "metadata": {},
   "outputs": [
    {
     "name": "stdout",
     "output_type": "stream",
     "text": [
      "<class 'pandas.core.frame.DataFrame'>\n",
      "RangeIndex: 293 entries, 0 to 292\n",
      "Data columns (total 9 columns):\n",
      " #   Column                    Non-Null Count  Dtype         \n",
      "---  ------                    --------------  -----         \n",
      " 0   Employee Number           293 non-null    int64         \n",
      " 1   Employee Name             293 non-null    object        \n",
      " 2   YEAR of Birth             293 non-null    int64         \n",
      " 3   Gender                    293 non-null    object        \n",
      " 4   Leaving Reason            293 non-null    object        \n",
      " 5   Previous Employer         221 non-null    object        \n",
      " 6   Last Update Date          293 non-null    datetime64[ns]\n",
      " 7   Latest  Available Rating  175 non-null    float64       \n",
      " 8   Emp Ref.                  11 non-null     object        \n",
      "dtypes: datetime64[ns](1), float64(1), int64(2), object(5)\n",
      "memory usage: 20.7+ KB\n"
     ]
    }
   ],
   "source": [
    "term.info()  # Shows the DataFrame's index, column names, non-null counts, and data types"
   ]
  },
  {
   "cell_type": "code",
   "execution_count": 366,
   "id": "e20e014e",
   "metadata": {},
   "outputs": [
    {
     "data": {
      "text/plain": [
       "Employee No                0\n",
       "New_id                     0\n",
       "Profit Center              0\n",
       "Employee Name              0\n",
       "Employee Position          0\n",
       "Employ_posi                0\n",
       "Employee Location          0\n",
       "Location                   0\n",
       "People Group               0\n",
       "Employee Category          0\n",
       "Supervisor name            0\n",
       "Join Date                  0\n",
       "Current Status             0\n",
       "Termination Date         850\n",
       "Unnamed: 14                0\n",
       "Final_date                 0\n",
       "Total Hours                0\n",
       "Total Available Hours      0\n",
       "Work Hours                 0\n",
       "Leave Hours                0\n",
       "Training Hours             0\n",
       "BD Hours                   0\n",
       "NC Hours                   0\n",
       "Utilization%               0\n",
       "dtype: int64"
      ]
     },
     "execution_count": 366,
     "metadata": {},
     "output_type": "execute_result"
    }
   ],
   "source": [
    "# Check for missing values in each column of the DataFrame\n",
    "df_16.isnull().sum()\n"
   ]
  },
  {
   "cell_type": "code",
   "execution_count": 367,
   "id": "8aadb44f",
   "metadata": {},
   "outputs": [
    {
     "data": {
      "text/plain": [
       "Employee No              0\n",
       "Profit Center            0\n",
       "Employee Name            0\n",
       "Employee Position        0\n",
       "Employee Location        0\n",
       "People Group             0\n",
       "Employee Category        0\n",
       "Supervisor name          0\n",
       "Join Date                0\n",
       "Current Status           0\n",
       "Termination Date         0\n",
       "Total Hours              0\n",
       "Total Available Hours    0\n",
       "Work Hours               0\n",
       "Leave Hours              0\n",
       "Training Hours           0\n",
       "BD Hours                 0\n",
       "NC Hours                 0\n",
       "Utilization%             0\n",
       "dtype: int64"
      ]
     },
     "execution_count": 367,
     "metadata": {},
     "output_type": "execute_result"
    }
   ],
   "source": [
    "df_17.isnull().sum()\n",
    "# Check for missing values in each column of the DataFrame\n"
   ]
  },
  {
   "cell_type": "code",
   "execution_count": 372,
   "id": "c0701ec4",
   "metadata": {},
   "outputs": [
    {
     "data": {
      "text/plain": [
       "Employee No       0\n",
       "Employee Name     0\n",
       "YEAR of Birth     0\n",
       "Gender            0\n",
       "Leaving Reason    0\n",
       "dtype: int64"
      ]
     },
     "execution_count": 372,
     "metadata": {},
     "output_type": "execute_result"
    }
   ],
   "source": [
    "term.isnull().sum()\n",
    "# Check for missing values in each column of the DataFrame\n"
   ]
  },
  {
   "cell_type": "code",
   "execution_count": 370,
   "id": "bdab7920",
   "metadata": {},
   "outputs": [],
   "source": [
    "# Drop specified columns from the DataFrame df_16\n",
    "df_16.drop(columns=[\"New_id\", \"Unnamed: 14\", \"Final_date\", \"Employ_posi\", \"Location\"], inplace=True)\n"
   ]
  },
  {
   "cell_type": "code",
   "execution_count": 227,
   "id": "692b63ac",
   "metadata": {},
   "outputs": [
    {
     "name": "stdout",
     "output_type": "stream",
     "text": [
      "<class 'pandas.core.frame.DataFrame'>\n",
      "RangeIndex: 1762 entries, 0 to 1761\n",
      "Data columns (total 19 columns):\n",
      " #   Column                 Non-Null Count  Dtype         \n",
      "---  ------                 --------------  -----         \n",
      " 0   Employee No            1762 non-null   int64         \n",
      " 1   Profit Center          1762 non-null   object        \n",
      " 2   Employee Name          1762 non-null   object        \n",
      " 3   Employee Position      1762 non-null   object        \n",
      " 4   Employee Location      1762 non-null   object        \n",
      " 5   People Group           1762 non-null   object        \n",
      " 6   Employee Category      1762 non-null   object        \n",
      " 7   Supervisor name        1762 non-null   object        \n",
      " 8   Join Date              1762 non-null   datetime64[ns]\n",
      " 9   Current Status         1762 non-null   object        \n",
      " 10  Termination Date       912 non-null    object        \n",
      " 11  Total Hours            1762 non-null   int64         \n",
      " 12  Total Available Hours  1762 non-null   float64       \n",
      " 13  Work Hours             1762 non-null   float64       \n",
      " 14  Leave Hours            1762 non-null   float64       \n",
      " 15  Training Hours         1762 non-null   float64       \n",
      " 16  BD Hours               1762 non-null   float64       \n",
      " 17  NC Hours               1762 non-null   float64       \n",
      " 18  Utilization%           1762 non-null   object        \n",
      "dtypes: datetime64[ns](1), float64(6), int64(2), object(10)\n",
      "memory usage: 261.7+ KB\n"
     ]
    }
   ],
   "source": [
    "df_16.info() #checking data information for df_16"
   ]
  },
  {
   "cell_type": "code",
   "execution_count": 228,
   "id": "3429a944",
   "metadata": {},
   "outputs": [
    {
     "name": "stdout",
     "output_type": "stream",
     "text": [
      "<class 'pandas.core.frame.DataFrame'>\n",
      "RangeIndex: 973 entries, 0 to 972\n",
      "Data columns (total 19 columns):\n",
      " #   Column                 Non-Null Count  Dtype         \n",
      "---  ------                 --------------  -----         \n",
      " 0   Employee No            973 non-null    int64         \n",
      " 1   Profit Center          973 non-null    object        \n",
      " 2   Employee Name          973 non-null    object        \n",
      " 3   Employee Position      973 non-null    object        \n",
      " 4   Employee Location      973 non-null    object        \n",
      " 5   People Group           973 non-null    object        \n",
      " 6   Employee Category      973 non-null    object        \n",
      " 7   Supervisor name        973 non-null    object        \n",
      " 8   Join Date              973 non-null    datetime64[ns]\n",
      " 9   Current Status         973 non-null    object        \n",
      " 10  Termination Date       145 non-null    datetime64[ns]\n",
      " 11  Total Hours            973 non-null    int64         \n",
      " 12  Total Available Hours  973 non-null    float64       \n",
      " 13  Work Hours             973 non-null    float64       \n",
      " 14  Leave Hours            973 non-null    int64         \n",
      " 15  Training Hours         973 non-null    float64       \n",
      " 16  BD Hours               973 non-null    float64       \n",
      " 17  NC Hours               973 non-null    float64       \n",
      " 18  Utilization%           973 non-null    object        \n",
      "dtypes: datetime64[ns](2), float64(5), int64(3), object(9)\n",
      "memory usage: 144.6+ KB\n"
     ]
    }
   ],
   "source": [
    "df_17.info() #checking information of df_17"
   ]
  },
  {
   "cell_type": "code",
   "execution_count": 229,
   "id": "53489f9d",
   "metadata": {},
   "outputs": [
    {
     "data": {
      "text/plain": [
       "NaN                    850\n",
       "-                      626\n",
       "2017-09-30 00:00:00     21\n",
       "2017-12-31 00:00:00     17\n",
       "2016-09-30 00:00:00     16\n",
       "2016-08-31 00:00:00     15\n",
       "2017-03-31 00:00:00     15\n",
       "2017-11-30 00:00:00     13\n",
       "2016-05-31 00:00:00     13\n",
       "2017-04-30 00:00:00     13\n",
       "2018-02-28 00:00:00     12\n",
       "2017-06-30 00:00:00     12\n",
       "2016-12-31 00:00:00     12\n",
       "2017-05-31 00:00:00     11\n",
       "2016-11-30 00:00:00     10\n",
       "2016-10-31 00:00:00     10\n",
       "2016-06-30 00:00:00     10\n",
       "2017-07-31 00:00:00      9\n",
       "2017-10-31 00:00:00      9\n",
       "2016-04-30 00:00:00      9\n",
       "2017-02-28 00:00:00      9\n",
       "2018-01-31 00:00:00      9\n",
       "2018-04-30 00:00:00      8\n",
       "2016-07-31 00:00:00      8\n",
       "2017-08-31 00:00:00      7\n",
       "2017-01-31 00:00:00      7\n",
       "2018-05-31 00:00:00      6\n",
       "2018-03-31 00:00:00      5\n",
       "Name: Termination Date, dtype: int64"
      ]
     },
     "execution_count": 229,
     "metadata": {},
     "output_type": "execute_result"
    }
   ],
   "source": [
    "df_16[\"Termination Date\"].value_counts(dropna=False) #checking for target columns to validate data"
   ]
  },
  {
   "cell_type": "code",
   "execution_count": 230,
   "id": "15484246",
   "metadata": {},
   "outputs": [
    {
     "data": {
      "text/plain": [
       "Employee No                0\n",
       "Profit Center              0\n",
       "Employee Name              0\n",
       "Employee Position          0\n",
       "Employee Location          0\n",
       "People Group               0\n",
       "Employee Category          0\n",
       "Supervisor name            0\n",
       "Join Date                  0\n",
       "Current Status             0\n",
       "Termination Date         850\n",
       "Total Hours                0\n",
       "Total Available Hours      0\n",
       "Work Hours                 0\n",
       "Leave Hours                0\n",
       "Training Hours             0\n",
       "BD Hours                   0\n",
       "NC Hours                   0\n",
       "Utilization%               0\n",
       "dtype: int64"
      ]
     },
     "execution_count": 230,
     "metadata": {},
     "output_type": "execute_result"
    }
   ],
   "source": [
    "df_16.isnull().sum() #checking for null values"
   ]
  },
  {
   "cell_type": "code",
   "execution_count": 231,
   "id": "d614b6cd",
   "metadata": {},
   "outputs": [
    {
     "data": {
      "text/plain": [
       "Employee No                0\n",
       "Profit Center              0\n",
       "Employee Name              0\n",
       "Employee Position          0\n",
       "Employee Location          0\n",
       "People Group               0\n",
       "Employee Category          0\n",
       "Supervisor name            0\n",
       "Join Date                  0\n",
       "Current Status             0\n",
       "Termination Date         828\n",
       "Total Hours                0\n",
       "Total Available Hours      0\n",
       "Work Hours                 0\n",
       "Leave Hours                0\n",
       "Training Hours             0\n",
       "BD Hours                   0\n",
       "NC Hours                   0\n",
       "Utilization%               0\n",
       "dtype: int64"
      ]
     },
     "execution_count": 231,
     "metadata": {},
     "output_type": "execute_result"
    }
   ],
   "source": [
    "df_17.isnull().sum() #checking for null values\n"
   ]
  },
  {
   "cell_type": "code",
   "execution_count": 232,
   "id": "7203c188",
   "metadata": {},
   "outputs": [
    {
     "data": {
      "text/plain": [
       "Employee Number    0\n",
       "Employee Name      0\n",
       "YEAR of Birth      0\n",
       "Gender             0\n",
       "Leaving Reason     0\n",
       "dtype: int64"
      ]
     },
     "execution_count": 232,
     "metadata": {},
     "output_type": "execute_result"
    }
   ],
   "source": [
    "term.isnull().sum() #checking null values"
   ]
  },
  {
   "cell_type": "code",
   "execution_count": 233,
   "id": "1066e291",
   "metadata": {},
   "outputs": [],
   "source": [
    "df_17[\"Termination Date\"]=df_17[\"Termination Date\"].replace(\" \", np.NaN) #replace empty space with Nan"
   ]
  },
  {
   "cell_type": "code",
   "execution_count": 234,
   "id": "9ac746d1",
   "metadata": {},
   "outputs": [],
   "source": [
    "df_16[\"Termination Date\"]=df_16[\"Termination Date\"].replace(\"-\",np.NaN)  #replace - with Nan"
   ]
  },
  {
   "cell_type": "code",
   "execution_count": 235,
   "id": "e416fa7a",
   "metadata": {},
   "outputs": [
    {
     "data": {
      "text/plain": [
       "Employee No                0\n",
       "Profit Center              0\n",
       "Employee Name              0\n",
       "Employee Position          0\n",
       "Employee Location          0\n",
       "People Group               0\n",
       "Employee Category          0\n",
       "Supervisor name            0\n",
       "Join Date                  0\n",
       "Current Status             0\n",
       "Termination Date         828\n",
       "Total Hours                0\n",
       "Total Available Hours      0\n",
       "Work Hours                 0\n",
       "Leave Hours                0\n",
       "Training Hours             0\n",
       "BD Hours                   0\n",
       "NC Hours                   0\n",
       "Utilization%               0\n",
       "dtype: int64"
      ]
     },
     "execution_count": 235,
     "metadata": {},
     "output_type": "execute_result"
    }
   ],
   "source": [
    "df_17.isnull().sum() # There are 828 null values in sheet 2"
   ]
  },
  {
   "cell_type": "code",
   "execution_count": 236,
   "id": "742e2d12",
   "metadata": {},
   "outputs": [
    {
     "data": {
      "text/plain": [
       "Termination Date\n",
       "2017-09-30    21\n",
       "2017-12-31    17\n",
       "2017-11-30    13\n",
       "2017-06-30    12\n",
       "2018-02-28    12\n",
       "2017-05-31     9\n",
       "2017-07-31     9\n",
       "2017-10-31     9\n",
       "2018-01-31     9\n",
       "2018-04-30     8\n",
       "2017-04-30     7\n",
       "2017-08-31     7\n",
       "2018-05-31     6\n",
       "2018-03-31     5\n",
       "2016-05-31     1\n",
       "dtype: int64"
      ]
     },
     "execution_count": 236,
     "metadata": {},
     "output_type": "execute_result"
    }
   ],
   "source": [
    "df_17.value_counts(\"Termination Date\") #check df_17 column-targetcolumn"
   ]
  },
  {
   "cell_type": "code",
   "execution_count": 237,
   "id": "0873f31e",
   "metadata": {},
   "outputs": [
    {
     "data": {
      "text/plain": [
       "NaT           1476\n",
       "2017-09-30      21\n",
       "2017-12-31      17\n",
       "2016-09-30      16\n",
       "2016-08-31      15\n",
       "2017-03-31      15\n",
       "2017-11-30      13\n",
       "2016-05-31      13\n",
       "2017-04-30      13\n",
       "2017-06-30      12\n",
       "2016-12-31      12\n",
       "2018-02-28      12\n",
       "2017-05-31      11\n",
       "2016-11-30      10\n",
       "2016-10-31      10\n",
       "2016-06-30      10\n",
       "2017-07-31       9\n",
       "2016-04-30       9\n",
       "2017-02-28       9\n",
       "2017-10-31       9\n",
       "2018-01-31       9\n",
       "2018-04-30       8\n",
       "2016-07-31       8\n",
       "2017-08-31       7\n",
       "2017-01-31       7\n",
       "2018-05-31       6\n",
       "2018-03-31       5\n",
       "Name: Termination Date, dtype: int64"
      ]
     },
     "execution_count": 237,
     "metadata": {},
     "output_type": "execute_result"
    }
   ],
   "source": [
    "df_16[\"Termination Date\"].value_counts(dropna=False) #check target column"
   ]
  },
  {
   "cell_type": "code",
   "execution_count": 238,
   "id": "c07c4408",
   "metadata": {},
   "outputs": [],
   "source": [
    "df_16[\"Termination Date\"]=df_16[\"Termination Date\"].fillna(np.nan) # Changing NAT to Null values for caluaction purpose."
   ]
  },
  {
   "cell_type": "code",
   "execution_count": 239,
   "id": "da65c155",
   "metadata": {},
   "outputs": [
    {
     "data": {
      "text/plain": [
       "Termination Date\n",
       "2017-09-30    21\n",
       "2017-12-31    17\n",
       "2016-09-30    16\n",
       "2017-03-31    15\n",
       "2016-08-31    15\n",
       "2017-11-30    13\n",
       "2016-05-31    13\n",
       "2017-04-30    13\n",
       "2016-12-31    12\n",
       "2018-02-28    12\n",
       "2017-06-30    12\n",
       "2017-05-31    11\n",
       "2016-11-30    10\n",
       "2016-10-31    10\n",
       "2016-06-30    10\n",
       "2018-01-31     9\n",
       "2017-10-31     9\n",
       "2016-04-30     9\n",
       "2017-07-31     9\n",
       "2017-02-28     9\n",
       "2016-07-31     8\n",
       "2018-04-30     8\n",
       "2017-08-31     7\n",
       "2017-01-31     7\n",
       "2018-05-31     6\n",
       "2018-03-31     5\n",
       "dtype: int64"
      ]
     },
     "execution_count": 239,
     "metadata": {},
     "output_type": "execute_result"
    }
   ],
   "source": [
    "df_16.value_counts(\"Termination Date\") #checking target varaible"
   ]
  },
  {
   "cell_type": "markdown",
   "id": "a0bb8edd",
   "metadata": {},
   "source": [
    "## Deal with Error on Employee Number "
   ]
  },
  {
   "cell_type": "code",
   "execution_count": 240,
   "id": "2c91a68a",
   "metadata": {},
   "outputs": [
    {
     "name": "stdout",
     "output_type": "stream",
     "text": [
      "<class 'pandas.core.frame.DataFrame'>\n",
      "RangeIndex: 1762 entries, 0 to 1761\n",
      "Data columns (total 19 columns):\n",
      " #   Column                 Non-Null Count  Dtype         \n",
      "---  ------                 --------------  -----         \n",
      " 0   Employee No            1762 non-null   int64         \n",
      " 1   Profit Center          1762 non-null   object        \n",
      " 2   Employee Name          1762 non-null   object        \n",
      " 3   Employee Position      1762 non-null   object        \n",
      " 4   Employee Location      1762 non-null   object        \n",
      " 5   People Group           1762 non-null   object        \n",
      " 6   Employee Category      1762 non-null   object        \n",
      " 7   Supervisor name        1762 non-null   object        \n",
      " 8   Join Date              1762 non-null   datetime64[ns]\n",
      " 9   Current Status         1762 non-null   object        \n",
      " 10  Termination Date       286 non-null    datetime64[ns]\n",
      " 11  Total Hours            1762 non-null   int64         \n",
      " 12  Total Available Hours  1762 non-null   float64       \n",
      " 13  Work Hours             1762 non-null   float64       \n",
      " 14  Leave Hours            1762 non-null   float64       \n",
      " 15  Training Hours         1762 non-null   float64       \n",
      " 16  BD Hours               1762 non-null   float64       \n",
      " 17  NC Hours               1762 non-null   float64       \n",
      " 18  Utilization%           1762 non-null   object        \n",
      "dtypes: datetime64[ns](2), float64(6), int64(2), object(9)\n",
      "memory usage: 261.7+ KB\n"
     ]
    }
   ],
   "source": [
    "df_16.info()  #validate data"
   ]
  },
  {
   "cell_type": "code",
   "execution_count": 241,
   "id": "2d7c5164",
   "metadata": {},
   "outputs": [],
   "source": [
    "#There are duplicated value in sheet 1 that we need to correct.\n",
    "# splitting Numerical columns and Categorical columns "
   ]
  },
  {
   "cell_type": "code",
   "execution_count": 242,
   "id": "81a65ad8",
   "metadata": {},
   "outputs": [
    {
     "data": {
      "text/html": [
       "<div>\n",
       "<style scoped>\n",
       "    .dataframe tbody tr th:only-of-type {\n",
       "        vertical-align: middle;\n",
       "    }\n",
       "\n",
       "    .dataframe tbody tr th {\n",
       "        vertical-align: top;\n",
       "    }\n",
       "\n",
       "    .dataframe thead th {\n",
       "        text-align: right;\n",
       "    }\n",
       "</style>\n",
       "<table border=\"1\" class=\"dataframe\">\n",
       "  <thead>\n",
       "    <tr style=\"text-align: right;\">\n",
       "      <th></th>\n",
       "      <th>Employee No</th>\n",
       "      <th>Total Hours</th>\n",
       "      <th>Total Available Hours</th>\n",
       "      <th>Work Hours</th>\n",
       "      <th>Leave Hours</th>\n",
       "      <th>Training Hours</th>\n",
       "      <th>BD Hours</th>\n",
       "      <th>NC Hours</th>\n",
       "    </tr>\n",
       "  </thead>\n",
       "  <tbody>\n",
       "    <tr>\n",
       "      <th>0</th>\n",
       "      <td>1092</td>\n",
       "      <td>120</td>\n",
       "      <td>32.0</td>\n",
       "      <td>32.0</td>\n",
       "      <td>8.0</td>\n",
       "      <td>80.0</td>\n",
       "      <td>0.0</td>\n",
       "      <td>0.0</td>\n",
       "    </tr>\n",
       "  </tbody>\n",
       "</table>\n",
       "</div>"
      ],
      "text/plain": [
       "   Employee No  Total Hours  Total Available Hours  Work Hours  Leave Hours  \\\n",
       "0         1092          120                   32.0        32.0          8.0   \n",
       "\n",
       "   Training Hours  BD Hours  NC Hours  \n",
       "0            80.0       0.0       0.0  "
      ]
     },
     "execution_count": 242,
     "metadata": {},
     "output_type": "execute_result"
    }
   ],
   "source": [
    "numerical_column_16=df_16.select_dtypes(exclude=[\"datetime64[ns]\",\"object\"])\n",
    "numerical_column_16.head(1)\n",
    "#taking all numeircal data in numerical_column_16"
   ]
  },
  {
   "cell_type": "code",
   "execution_count": 243,
   "id": "15044a5e",
   "metadata": {
    "scrolled": true
   },
   "outputs": [
    {
     "data": {
      "text/html": [
       "<div>\n",
       "<style scoped>\n",
       "    .dataframe tbody tr th:only-of-type {\n",
       "        vertical-align: middle;\n",
       "    }\n",
       "\n",
       "    .dataframe tbody tr th {\n",
       "        vertical-align: top;\n",
       "    }\n",
       "\n",
       "    .dataframe thead th {\n",
       "        text-align: right;\n",
       "    }\n",
       "</style>\n",
       "<table border=\"1\" class=\"dataframe\">\n",
       "  <thead>\n",
       "    <tr style=\"text-align: right;\">\n",
       "      <th></th>\n",
       "      <th>Employee No</th>\n",
       "      <th>Profit Center</th>\n",
       "      <th>Employee Name</th>\n",
       "      <th>Employee Position</th>\n",
       "      <th>Employee Location</th>\n",
       "      <th>People Group</th>\n",
       "      <th>Employee Category</th>\n",
       "      <th>Supervisor name</th>\n",
       "      <th>Join Date</th>\n",
       "      <th>Current Status</th>\n",
       "      <th>Termination Date</th>\n",
       "      <th>Total Hours</th>\n",
       "      <th>Total Available Hours</th>\n",
       "      <th>Work Hours</th>\n",
       "      <th>Leave Hours</th>\n",
       "      <th>Training Hours</th>\n",
       "      <th>BD Hours</th>\n",
       "      <th>NC Hours</th>\n",
       "      <th>Utilization%</th>\n",
       "    </tr>\n",
       "  </thead>\n",
       "  <tbody>\n",
       "    <tr>\n",
       "      <th>1761</th>\n",
       "      <td>642</td>\n",
       "      <td>PC - 2</td>\n",
       "      <td>Zulema Ainslee</td>\n",
       "      <td>Level 8</td>\n",
       "      <td>Location 7</td>\n",
       "      <td>Client Service Staff</td>\n",
       "      <td>Confirmed Staff</td>\n",
       "      <td>Dannie Clotilda</td>\n",
       "      <td>2016-06-30</td>\n",
       "      <td>Active</td>\n",
       "      <td>NaT</td>\n",
       "      <td>2080</td>\n",
       "      <td>1980.0</td>\n",
       "      <td>1913.0</td>\n",
       "      <td>92.0</td>\n",
       "      <td>8.0</td>\n",
       "      <td>0.0</td>\n",
       "      <td>67.0</td>\n",
       "      <td>0.966162</td>\n",
       "    </tr>\n",
       "  </tbody>\n",
       "</table>\n",
       "</div>"
      ],
      "text/plain": [
       "      Employee No Profit Center   Employee Name Employee Position  \\\n",
       "1761          642        PC - 2  Zulema Ainslee           Level 8   \n",
       "\n",
       "     Employee Location          People Group Employee Category  \\\n",
       "1761        Location 7  Client Service Staff   Confirmed Staff   \n",
       "\n",
       "      Supervisor name  Join Date Current Status Termination Date  Total Hours  \\\n",
       "1761  Dannie Clotilda 2016-06-30         Active              NaT         2080   \n",
       "\n",
       "      Total Available Hours  Work Hours  Leave Hours  Training Hours  \\\n",
       "1761                 1980.0      1913.0         92.0             8.0   \n",
       "\n",
       "      BD Hours  NC Hours Utilization%  \n",
       "1761       0.0      67.0     0.966162  "
      ]
     },
     "execution_count": 243,
     "metadata": {},
     "output_type": "execute_result"
    }
   ],
   "source": [
    "categorical_columns=df_16.select_dtypes(exclude=[\"float64,int64\"])\n",
    "categorical_columns.tail(1)\n",
    "#validate data"
   ]
  },
  {
   "cell_type": "code",
   "execution_count": 244,
   "id": "b5783625",
   "metadata": {},
   "outputs": [
    {
     "data": {
      "text/plain": [
       "Index(['Employee No', 'Profit Center', 'Employee Name', 'Employee Position',\n",
       "       'Employee Location', 'People Group', 'Employee Category',\n",
       "       'Supervisor name', 'Join Date', 'Current Status', 'Termination Date',\n",
       "       'Total Hours', 'Total Available Hours', 'Work Hours', 'Leave Hours',\n",
       "       'Training Hours', 'BD Hours', 'NC Hours', 'Utilization%'],\n",
       "      dtype='object')"
      ]
     },
     "execution_count": 244,
     "metadata": {},
     "output_type": "execute_result"
    }
   ],
   "source": [
    "categorical_columns.columns\n",
    "# since it contains  Utilization we will use alternative approach that does not contain utlization\n",
    "# as we will manually calculate it."
   ]
  },
  {
   "cell_type": "code",
   "execution_count": 245,
   "id": "8df5918f",
   "metadata": {},
   "outputs": [],
   "source": [
    "cat_columns=df_16.drop(columns=[\"Total Hours\",\"Total Available Hours\",\"Work Hours\",\"Leave Hours\",\"Training Hours\",\"BD Hours\",\"NC Hours\",\"Utilization%\"])\n",
    "#drop numerical data to store categorical data in cat_columns"
   ]
  },
  {
   "cell_type": "code",
   "execution_count": 246,
   "id": "7fefc694",
   "metadata": {},
   "outputs": [
    {
     "data": {
      "text/html": [
       "<div>\n",
       "<style scoped>\n",
       "    .dataframe tbody tr th:only-of-type {\n",
       "        vertical-align: middle;\n",
       "    }\n",
       "\n",
       "    .dataframe tbody tr th {\n",
       "        vertical-align: top;\n",
       "    }\n",
       "\n",
       "    .dataframe thead th {\n",
       "        text-align: right;\n",
       "    }\n",
       "</style>\n",
       "<table border=\"1\" class=\"dataframe\">\n",
       "  <thead>\n",
       "    <tr style=\"text-align: right;\">\n",
       "      <th></th>\n",
       "      <th>Employee No</th>\n",
       "      <th>Profit Center</th>\n",
       "      <th>Employee Name</th>\n",
       "      <th>Employee Position</th>\n",
       "      <th>Employee Location</th>\n",
       "      <th>People Group</th>\n",
       "      <th>Employee Category</th>\n",
       "      <th>Supervisor name</th>\n",
       "      <th>Join Date</th>\n",
       "      <th>Current Status</th>\n",
       "      <th>Termination Date</th>\n",
       "    </tr>\n",
       "  </thead>\n",
       "  <tbody>\n",
       "    <tr>\n",
       "      <th>0</th>\n",
       "      <td>1092</td>\n",
       "      <td>PC - 3</td>\n",
       "      <td>Aaron Mcneil</td>\n",
       "      <td>Level 7</td>\n",
       "      <td>Location 1</td>\n",
       "      <td>Client Service Staff</td>\n",
       "      <td>Staff on Probation</td>\n",
       "      <td>Kali Gwendolyn</td>\n",
       "      <td>2018-03-31</td>\n",
       "      <td>New Joiner</td>\n",
       "      <td>NaT</td>\n",
       "    </tr>\n",
       "  </tbody>\n",
       "</table>\n",
       "</div>"
      ],
      "text/plain": [
       "   Employee No Profit Center Employee Name Employee Position  \\\n",
       "0         1092        PC - 3  Aaron Mcneil           Level 7   \n",
       "\n",
       "  Employee Location          People Group   Employee Category Supervisor name  \\\n",
       "0        Location 1  Client Service Staff  Staff on Probation  Kali Gwendolyn   \n",
       "\n",
       "   Join Date Current Status Termination Date  \n",
       "0 2018-03-31     New Joiner              NaT  "
      ]
     },
     "execution_count": 246,
     "metadata": {},
     "output_type": "execute_result"
    }
   ],
   "source": [
    "cat_columns.head(1) #validate data"
   ]
  },
  {
   "cell_type": "code",
   "execution_count": 247,
   "id": "97124352",
   "metadata": {},
   "outputs": [],
   "source": [
    "#question , why we take employee no which is int in both Categorical column and numeircal columns ?"
   ]
  },
  {
   "cell_type": "code",
   "execution_count": 248,
   "id": "63ee11a6",
   "metadata": {},
   "outputs": [],
   "source": [
    "num16=pd.pivot_table(numerical_column_16,index=\"Employee No\", values=[\"Total Hours\",\n",
    "\"Total Available Hours\",\"Work Hours\",\"Leave Hours\",\"Training Hours\",\"BD Hours\",\"NC Hours\"], aggfunc=\"sum\", sort=False)\n",
    "#creating a pivot Table based on Employee No to treat error from employeeNO"
   ]
  },
  {
   "cell_type": "code",
   "execution_count": null,
   "id": "1f8813db",
   "metadata": {},
   "outputs": [],
   "source": []
  },
  {
   "cell_type": "markdown",
   "id": "5bece671",
   "metadata": {},
   "source": [
    "##### The sort=False parameter in pd.pivot_table is used to control whether the index and columns of the pivot table should be sorted. By default, pd.pivot_table sorts the index and columns, but setting sort=False disables this sorting.\n",
    "\n",
    "#### Purpose of sort=False:\n",
    "\n",
    "#### Preserve Order: By setting sort=False, you preserve the original order of \"Employee No\" as it appears in your source DataFrame. This can be important if the order of rows is significant for analysis or if you want to maintain the order of appearance.\n",
    "\n",
    "#### Avoid Errors: If \"Employee No\" contains non-numeric or unordered values that are important for the context of your analysis, sorting might lead to confusion or misinterpretation. sort=False avoids automatic sorting that might affect the data’s original order.\n",
    "\n",
    "#### When to Use sort=False:\n",
    "\n",
    "##### Unordered Data: Use it when the index data does not need to be sorted (e.g., in cases where the order of rows is important or is arbitrary).\n",
    "##### Maintaining Original Order: If you want to keep the original order of the data as it appears, especially useful when analyzing sequences or patterns based on the order of the data."
   ]
  },
  {
   "cell_type": "code",
   "execution_count": 249,
   "id": "41e9c912",
   "metadata": {},
   "outputs": [
    {
     "data": {
      "text/html": [
       "<div>\n",
       "<style scoped>\n",
       "    .dataframe tbody tr th:only-of-type {\n",
       "        vertical-align: middle;\n",
       "    }\n",
       "\n",
       "    .dataframe tbody tr th {\n",
       "        vertical-align: top;\n",
       "    }\n",
       "\n",
       "    .dataframe thead th {\n",
       "        text-align: right;\n",
       "    }\n",
       "</style>\n",
       "<table border=\"1\" class=\"dataframe\">\n",
       "  <thead>\n",
       "    <tr style=\"text-align: right;\">\n",
       "      <th></th>\n",
       "      <th>Total Hours</th>\n",
       "      <th>Total Available Hours</th>\n",
       "      <th>Work Hours</th>\n",
       "      <th>Leave Hours</th>\n",
       "      <th>Training Hours</th>\n",
       "      <th>BD Hours</th>\n",
       "      <th>NC Hours</th>\n",
       "    </tr>\n",
       "    <tr>\n",
       "      <th>Employee No</th>\n",
       "      <th></th>\n",
       "      <th></th>\n",
       "      <th></th>\n",
       "      <th></th>\n",
       "      <th></th>\n",
       "      <th></th>\n",
       "      <th></th>\n",
       "    </tr>\n",
       "  </thead>\n",
       "  <tbody>\n",
       "    <tr>\n",
       "      <th>1092</th>\n",
       "      <td>120</td>\n",
       "      <td>32.0</td>\n",
       "      <td>32.0</td>\n",
       "      <td>8.0</td>\n",
       "      <td>80.0</td>\n",
       "      <td>0.0</td>\n",
       "      <td>0.0</td>\n",
       "    </tr>\n",
       "    <tr>\n",
       "      <th>490</th>\n",
       "      <td>4168</td>\n",
       "      <td>3616.0</td>\n",
       "      <td>2326.0</td>\n",
       "      <td>552.0</td>\n",
       "      <td>0.0</td>\n",
       "      <td>0.0</td>\n",
       "      <td>1532.0</td>\n",
       "    </tr>\n",
       "    <tr>\n",
       "      <th>655</th>\n",
       "      <td>3760</td>\n",
       "      <td>3479.0</td>\n",
       "      <td>1728.5</td>\n",
       "      <td>248.0</td>\n",
       "      <td>33.0</td>\n",
       "      <td>0.0</td>\n",
       "      <td>1776.0</td>\n",
       "    </tr>\n",
       "    <tr>\n",
       "      <th>1085</th>\n",
       "      <td>160</td>\n",
       "      <td>131.0</td>\n",
       "      <td>72.0</td>\n",
       "      <td>8.0</td>\n",
       "      <td>21.0</td>\n",
       "      <td>0.0</td>\n",
       "      <td>59.0</td>\n",
       "    </tr>\n",
       "    <tr>\n",
       "      <th>610</th>\n",
       "      <td>3960</td>\n",
       "      <td>3575.5</td>\n",
       "      <td>2714.0</td>\n",
       "      <td>312.0</td>\n",
       "      <td>72.5</td>\n",
       "      <td>0.0</td>\n",
       "      <td>890.5</td>\n",
       "    </tr>\n",
       "    <tr>\n",
       "      <th>...</th>\n",
       "      <td>...</td>\n",
       "      <td>...</td>\n",
       "      <td>...</td>\n",
       "      <td>...</td>\n",
       "      <td>...</td>\n",
       "      <td>...</td>\n",
       "      <td>...</td>\n",
       "    </tr>\n",
       "    <tr>\n",
       "      <th>515</th>\n",
       "      <td>4168</td>\n",
       "      <td>3627.0</td>\n",
       "      <td>3340.0</td>\n",
       "      <td>504.0</td>\n",
       "      <td>37.0</td>\n",
       "      <td>0.0</td>\n",
       "      <td>384.0</td>\n",
       "    </tr>\n",
       "    <tr>\n",
       "      <th>553</th>\n",
       "      <td>760</td>\n",
       "      <td>724.0</td>\n",
       "      <td>432.0</td>\n",
       "      <td>8.0</td>\n",
       "      <td>28.0</td>\n",
       "      <td>0.0</td>\n",
       "      <td>300.0</td>\n",
       "    </tr>\n",
       "    <tr>\n",
       "      <th>319</th>\n",
       "      <td>4168</td>\n",
       "      <td>3960.0</td>\n",
       "      <td>3543.0</td>\n",
       "      <td>208.0</td>\n",
       "      <td>0.0</td>\n",
       "      <td>0.0</td>\n",
       "      <td>489.0</td>\n",
       "    </tr>\n",
       "    <tr>\n",
       "      <th>633</th>\n",
       "      <td>2720</td>\n",
       "      <td>2354.0</td>\n",
       "      <td>2026.0</td>\n",
       "      <td>232.0</td>\n",
       "      <td>134.0</td>\n",
       "      <td>0.0</td>\n",
       "      <td>434.0</td>\n",
       "    </tr>\n",
       "    <tr>\n",
       "      <th>642</th>\n",
       "      <td>3800</td>\n",
       "      <td>3402.0</td>\n",
       "      <td>2658.5</td>\n",
       "      <td>280.0</td>\n",
       "      <td>118.0</td>\n",
       "      <td>0.0</td>\n",
       "      <td>775.5</td>\n",
       "    </tr>\n",
       "  </tbody>\n",
       "</table>\n",
       "<p>1111 rows × 7 columns</p>\n",
       "</div>"
      ],
      "text/plain": [
       "             Total Hours  Total Available Hours  Work Hours  Leave Hours  \\\n",
       "Employee No                                                                \n",
       "1092                 120                   32.0        32.0          8.0   \n",
       "490                 4168                 3616.0      2326.0        552.0   \n",
       "655                 3760                 3479.0      1728.5        248.0   \n",
       "1085                 160                  131.0        72.0          8.0   \n",
       "610                 3960                 3575.5      2714.0        312.0   \n",
       "...                  ...                    ...         ...          ...   \n",
       "515                 4168                 3627.0      3340.0        504.0   \n",
       "553                  760                  724.0       432.0          8.0   \n",
       "319                 4168                 3960.0      3543.0        208.0   \n",
       "633                 2720                 2354.0      2026.0        232.0   \n",
       "642                 3800                 3402.0      2658.5        280.0   \n",
       "\n",
       "             Training Hours  BD Hours  NC Hours  \n",
       "Employee No                                      \n",
       "1092                   80.0       0.0       0.0  \n",
       "490                     0.0       0.0    1532.0  \n",
       "655                    33.0       0.0    1776.0  \n",
       "1085                   21.0       0.0      59.0  \n",
       "610                    72.5       0.0     890.5  \n",
       "...                     ...       ...       ...  \n",
       "515                    37.0       0.0     384.0  \n",
       "553                    28.0       0.0     300.0  \n",
       "319                     0.0       0.0     489.0  \n",
       "633                   134.0       0.0     434.0  \n",
       "642                   118.0       0.0     775.5  \n",
       "\n",
       "[1111 rows x 7 columns]"
      ]
     },
     "execution_count": 249,
     "metadata": {},
     "output_type": "execute_result"
    }
   ],
   "source": [
    "num16 # Corrected Errors by creating Pivot Table"
   ]
  },
  {
   "cell_type": "code",
   "execution_count": 250,
   "id": "a283ff3d",
   "metadata": {},
   "outputs": [],
   "source": [
    "numerical_columns_16=num16.reset_index() #Reset index using Error free num16 column \n",
    "#we have already removed error with Employee NO column by Pivot Table."
   ]
  },
  {
   "cell_type": "code",
   "execution_count": 251,
   "id": "12d9eb55",
   "metadata": {},
   "outputs": [
    {
     "data": {
      "text/html": [
       "<div>\n",
       "<style scoped>\n",
       "    .dataframe tbody tr th:only-of-type {\n",
       "        vertical-align: middle;\n",
       "    }\n",
       "\n",
       "    .dataframe tbody tr th {\n",
       "        vertical-align: top;\n",
       "    }\n",
       "\n",
       "    .dataframe thead th {\n",
       "        text-align: right;\n",
       "    }\n",
       "</style>\n",
       "<table border=\"1\" class=\"dataframe\">\n",
       "  <thead>\n",
       "    <tr style=\"text-align: right;\">\n",
       "      <th></th>\n",
       "      <th>Total Hours</th>\n",
       "      <th>Total Available Hours</th>\n",
       "      <th>Work Hours</th>\n",
       "      <th>Leave Hours</th>\n",
       "      <th>Training Hours</th>\n",
       "      <th>BD Hours</th>\n",
       "      <th>NC Hours</th>\n",
       "    </tr>\n",
       "    <tr>\n",
       "      <th>Employee No</th>\n",
       "      <th></th>\n",
       "      <th></th>\n",
       "      <th></th>\n",
       "      <th></th>\n",
       "      <th></th>\n",
       "      <th></th>\n",
       "      <th></th>\n",
       "    </tr>\n",
       "  </thead>\n",
       "  <tbody>\n",
       "    <tr>\n",
       "      <th>1092</th>\n",
       "      <td>120</td>\n",
       "      <td>32.0</td>\n",
       "      <td>32.0</td>\n",
       "      <td>8.0</td>\n",
       "      <td>80.0</td>\n",
       "      <td>0.0</td>\n",
       "      <td>0.0</td>\n",
       "    </tr>\n",
       "    <tr>\n",
       "      <th>490</th>\n",
       "      <td>4168</td>\n",
       "      <td>3616.0</td>\n",
       "      <td>2326.0</td>\n",
       "      <td>552.0</td>\n",
       "      <td>0.0</td>\n",
       "      <td>0.0</td>\n",
       "      <td>1532.0</td>\n",
       "    </tr>\n",
       "    <tr>\n",
       "      <th>655</th>\n",
       "      <td>3760</td>\n",
       "      <td>3479.0</td>\n",
       "      <td>1728.5</td>\n",
       "      <td>248.0</td>\n",
       "      <td>33.0</td>\n",
       "      <td>0.0</td>\n",
       "      <td>1776.0</td>\n",
       "    </tr>\n",
       "    <tr>\n",
       "      <th>1085</th>\n",
       "      <td>160</td>\n",
       "      <td>131.0</td>\n",
       "      <td>72.0</td>\n",
       "      <td>8.0</td>\n",
       "      <td>21.0</td>\n",
       "      <td>0.0</td>\n",
       "      <td>59.0</td>\n",
       "    </tr>\n",
       "    <tr>\n",
       "      <th>610</th>\n",
       "      <td>3960</td>\n",
       "      <td>3575.5</td>\n",
       "      <td>2714.0</td>\n",
       "      <td>312.0</td>\n",
       "      <td>72.5</td>\n",
       "      <td>0.0</td>\n",
       "      <td>890.5</td>\n",
       "    </tr>\n",
       "    <tr>\n",
       "      <th>...</th>\n",
       "      <td>...</td>\n",
       "      <td>...</td>\n",
       "      <td>...</td>\n",
       "      <td>...</td>\n",
       "      <td>...</td>\n",
       "      <td>...</td>\n",
       "      <td>...</td>\n",
       "    </tr>\n",
       "    <tr>\n",
       "      <th>515</th>\n",
       "      <td>4168</td>\n",
       "      <td>3627.0</td>\n",
       "      <td>3340.0</td>\n",
       "      <td>504.0</td>\n",
       "      <td>37.0</td>\n",
       "      <td>0.0</td>\n",
       "      <td>384.0</td>\n",
       "    </tr>\n",
       "    <tr>\n",
       "      <th>553</th>\n",
       "      <td>760</td>\n",
       "      <td>724.0</td>\n",
       "      <td>432.0</td>\n",
       "      <td>8.0</td>\n",
       "      <td>28.0</td>\n",
       "      <td>0.0</td>\n",
       "      <td>300.0</td>\n",
       "    </tr>\n",
       "    <tr>\n",
       "      <th>319</th>\n",
       "      <td>4168</td>\n",
       "      <td>3960.0</td>\n",
       "      <td>3543.0</td>\n",
       "      <td>208.0</td>\n",
       "      <td>0.0</td>\n",
       "      <td>0.0</td>\n",
       "      <td>489.0</td>\n",
       "    </tr>\n",
       "    <tr>\n",
       "      <th>633</th>\n",
       "      <td>2720</td>\n",
       "      <td>2354.0</td>\n",
       "      <td>2026.0</td>\n",
       "      <td>232.0</td>\n",
       "      <td>134.0</td>\n",
       "      <td>0.0</td>\n",
       "      <td>434.0</td>\n",
       "    </tr>\n",
       "    <tr>\n",
       "      <th>642</th>\n",
       "      <td>3800</td>\n",
       "      <td>3402.0</td>\n",
       "      <td>2658.5</td>\n",
       "      <td>280.0</td>\n",
       "      <td>118.0</td>\n",
       "      <td>0.0</td>\n",
       "      <td>775.5</td>\n",
       "    </tr>\n",
       "  </tbody>\n",
       "</table>\n",
       "<p>1111 rows × 7 columns</p>\n",
       "</div>"
      ],
      "text/plain": [
       "             Total Hours  Total Available Hours  Work Hours  Leave Hours  \\\n",
       "Employee No                                                                \n",
       "1092                 120                   32.0        32.0          8.0   \n",
       "490                 4168                 3616.0      2326.0        552.0   \n",
       "655                 3760                 3479.0      1728.5        248.0   \n",
       "1085                 160                  131.0        72.0          8.0   \n",
       "610                 3960                 3575.5      2714.0        312.0   \n",
       "...                  ...                    ...         ...          ...   \n",
       "515                 4168                 3627.0      3340.0        504.0   \n",
       "553                  760                  724.0       432.0          8.0   \n",
       "319                 4168                 3960.0      3543.0        208.0   \n",
       "633                 2720                 2354.0      2026.0        232.0   \n",
       "642                 3800                 3402.0      2658.5        280.0   \n",
       "\n",
       "             Training Hours  BD Hours  NC Hours  \n",
       "Employee No                                      \n",
       "1092                   80.0       0.0       0.0  \n",
       "490                     0.0       0.0    1532.0  \n",
       "655                    33.0       0.0    1776.0  \n",
       "1085                   21.0       0.0      59.0  \n",
       "610                    72.5       0.0     890.5  \n",
       "...                     ...       ...       ...  \n",
       "515                    37.0       0.0     384.0  \n",
       "553                    28.0       0.0     300.0  \n",
       "319                     0.0       0.0     489.0  \n",
       "633                   134.0       0.0     434.0  \n",
       "642                   118.0       0.0     775.5  \n",
       "\n",
       "[1111 rows x 7 columns]"
      ]
     },
     "execution_count": 251,
     "metadata": {},
     "output_type": "execute_result"
    }
   ],
   "source": [
    "num16"
   ]
  },
  {
   "cell_type": "code",
   "execution_count": 252,
   "id": "95153f3e",
   "metadata": {},
   "outputs": [
    {
     "data": {
      "text/html": [
       "<div>\n",
       "<style scoped>\n",
       "    .dataframe tbody tr th:only-of-type {\n",
       "        vertical-align: middle;\n",
       "    }\n",
       "\n",
       "    .dataframe tbody tr th {\n",
       "        vertical-align: top;\n",
       "    }\n",
       "\n",
       "    .dataframe thead th {\n",
       "        text-align: right;\n",
       "    }\n",
       "</style>\n",
       "<table border=\"1\" class=\"dataframe\">\n",
       "  <thead>\n",
       "    <tr style=\"text-align: right;\">\n",
       "      <th></th>\n",
       "      <th>Employee No</th>\n",
       "      <th>Total Hours</th>\n",
       "      <th>Total Available Hours</th>\n",
       "      <th>Work Hours</th>\n",
       "      <th>Leave Hours</th>\n",
       "      <th>Training Hours</th>\n",
       "      <th>BD Hours</th>\n",
       "      <th>NC Hours</th>\n",
       "    </tr>\n",
       "  </thead>\n",
       "  <tbody>\n",
       "    <tr>\n",
       "      <th>0</th>\n",
       "      <td>1092</td>\n",
       "      <td>120</td>\n",
       "      <td>32.0</td>\n",
       "      <td>32.0</td>\n",
       "      <td>8.0</td>\n",
       "      <td>80.0</td>\n",
       "      <td>0.0</td>\n",
       "      <td>0.0</td>\n",
       "    </tr>\n",
       "    <tr>\n",
       "      <th>1</th>\n",
       "      <td>490</td>\n",
       "      <td>4168</td>\n",
       "      <td>3616.0</td>\n",
       "      <td>2326.0</td>\n",
       "      <td>552.0</td>\n",
       "      <td>0.0</td>\n",
       "      <td>0.0</td>\n",
       "      <td>1532.0</td>\n",
       "    </tr>\n",
       "    <tr>\n",
       "      <th>2</th>\n",
       "      <td>655</td>\n",
       "      <td>3760</td>\n",
       "      <td>3479.0</td>\n",
       "      <td>1728.5</td>\n",
       "      <td>248.0</td>\n",
       "      <td>33.0</td>\n",
       "      <td>0.0</td>\n",
       "      <td>1776.0</td>\n",
       "    </tr>\n",
       "    <tr>\n",
       "      <th>3</th>\n",
       "      <td>1085</td>\n",
       "      <td>160</td>\n",
       "      <td>131.0</td>\n",
       "      <td>72.0</td>\n",
       "      <td>8.0</td>\n",
       "      <td>21.0</td>\n",
       "      <td>0.0</td>\n",
       "      <td>59.0</td>\n",
       "    </tr>\n",
       "    <tr>\n",
       "      <th>4</th>\n",
       "      <td>610</td>\n",
       "      <td>3960</td>\n",
       "      <td>3575.5</td>\n",
       "      <td>2714.0</td>\n",
       "      <td>312.0</td>\n",
       "      <td>72.5</td>\n",
       "      <td>0.0</td>\n",
       "      <td>890.5</td>\n",
       "    </tr>\n",
       "    <tr>\n",
       "      <th>...</th>\n",
       "      <td>...</td>\n",
       "      <td>...</td>\n",
       "      <td>...</td>\n",
       "      <td>...</td>\n",
       "      <td>...</td>\n",
       "      <td>...</td>\n",
       "      <td>...</td>\n",
       "      <td>...</td>\n",
       "    </tr>\n",
       "    <tr>\n",
       "      <th>1106</th>\n",
       "      <td>515</td>\n",
       "      <td>4168</td>\n",
       "      <td>3627.0</td>\n",
       "      <td>3340.0</td>\n",
       "      <td>504.0</td>\n",
       "      <td>37.0</td>\n",
       "      <td>0.0</td>\n",
       "      <td>384.0</td>\n",
       "    </tr>\n",
       "    <tr>\n",
       "      <th>1107</th>\n",
       "      <td>553</td>\n",
       "      <td>760</td>\n",
       "      <td>724.0</td>\n",
       "      <td>432.0</td>\n",
       "      <td>8.0</td>\n",
       "      <td>28.0</td>\n",
       "      <td>0.0</td>\n",
       "      <td>300.0</td>\n",
       "    </tr>\n",
       "    <tr>\n",
       "      <th>1108</th>\n",
       "      <td>319</td>\n",
       "      <td>4168</td>\n",
       "      <td>3960.0</td>\n",
       "      <td>3543.0</td>\n",
       "      <td>208.0</td>\n",
       "      <td>0.0</td>\n",
       "      <td>0.0</td>\n",
       "      <td>489.0</td>\n",
       "    </tr>\n",
       "    <tr>\n",
       "      <th>1109</th>\n",
       "      <td>633</td>\n",
       "      <td>2720</td>\n",
       "      <td>2354.0</td>\n",
       "      <td>2026.0</td>\n",
       "      <td>232.0</td>\n",
       "      <td>134.0</td>\n",
       "      <td>0.0</td>\n",
       "      <td>434.0</td>\n",
       "    </tr>\n",
       "    <tr>\n",
       "      <th>1110</th>\n",
       "      <td>642</td>\n",
       "      <td>3800</td>\n",
       "      <td>3402.0</td>\n",
       "      <td>2658.5</td>\n",
       "      <td>280.0</td>\n",
       "      <td>118.0</td>\n",
       "      <td>0.0</td>\n",
       "      <td>775.5</td>\n",
       "    </tr>\n",
       "  </tbody>\n",
       "</table>\n",
       "<p>1111 rows × 8 columns</p>\n",
       "</div>"
      ],
      "text/plain": [
       "      Employee No  Total Hours  Total Available Hours  Work Hours  \\\n",
       "0            1092          120                   32.0        32.0   \n",
       "1             490         4168                 3616.0      2326.0   \n",
       "2             655         3760                 3479.0      1728.5   \n",
       "3            1085          160                  131.0        72.0   \n",
       "4             610         3960                 3575.5      2714.0   \n",
       "...           ...          ...                    ...         ...   \n",
       "1106          515         4168                 3627.0      3340.0   \n",
       "1107          553          760                  724.0       432.0   \n",
       "1108          319         4168                 3960.0      3543.0   \n",
       "1109          633         2720                 2354.0      2026.0   \n",
       "1110          642         3800                 3402.0      2658.5   \n",
       "\n",
       "      Leave Hours  Training Hours  BD Hours  NC Hours  \n",
       "0             8.0            80.0       0.0       0.0  \n",
       "1           552.0             0.0       0.0    1532.0  \n",
       "2           248.0            33.0       0.0    1776.0  \n",
       "3             8.0            21.0       0.0      59.0  \n",
       "4           312.0            72.5       0.0     890.5  \n",
       "...           ...             ...       ...       ...  \n",
       "1106        504.0            37.0       0.0     384.0  \n",
       "1107          8.0            28.0       0.0     300.0  \n",
       "1108        208.0             0.0       0.0     489.0  \n",
       "1109        232.0           134.0       0.0     434.0  \n",
       "1110        280.0           118.0       0.0     775.5  \n",
       "\n",
       "[1111 rows x 8 columns]"
      ]
     },
     "execution_count": 252,
     "metadata": {},
     "output_type": "execute_result"
    }
   ],
   "source": [
    "numerical_columns_16  #validate data-numerical_columns_16"
   ]
  },
  {
   "cell_type": "markdown",
   "id": "ffe5c64f",
   "metadata": {},
   "source": [
    "##    Dealing with Duplicates in the Dataset."
   ]
  },
  {
   "cell_type": "code",
   "execution_count": 253,
   "id": "9534eade",
   "metadata": {},
   "outputs": [
    {
     "data": {
      "text/plain": [
       "0"
      ]
     },
     "execution_count": 253,
     "metadata": {},
     "output_type": "execute_result"
    }
   ],
   "source": [
    "numerical_columns_16.duplicated(subset=\"Employee No\").sum() # Already duplicated eliminated by Pivot Table."
   ]
  },
  {
   "cell_type": "code",
   "execution_count": 254,
   "id": "5d25f95c",
   "metadata": {},
   "outputs": [
    {
     "data": {
      "text/plain": [
       "651"
      ]
     },
     "execution_count": 254,
     "metadata": {},
     "output_type": "execute_result"
    }
   ],
   "source": [
    "cat_columns.duplicated(subset=\"Employee No\").sum() #checking duplicates"
   ]
  },
  {
   "cell_type": "code",
   "execution_count": 255,
   "id": "968860c7",
   "metadata": {},
   "outputs": [],
   "source": [
    "cat_columns.drop_duplicates(subset=[\"Employee No\"], inplace=True)\n",
    "#dropping duplicates from object column of sheet 1 based on Employee No from our problem statement Dataset"
   ]
  },
  {
   "cell_type": "code",
   "execution_count": 256,
   "id": "0fc105af",
   "metadata": {},
   "outputs": [
    {
     "data": {
      "text/plain": [
       "0"
      ]
     },
     "execution_count": 256,
     "metadata": {},
     "output_type": "execute_result"
    }
   ],
   "source": [
    "cat_columns.duplicated(subset=\"Employee No\").sum() #We have successfully removed Error and duplicates from Data"
   ]
  },
  {
   "cell_type": "code",
   "execution_count": 257,
   "id": "d0aebbc7",
   "metadata": {},
   "outputs": [
    {
     "data": {
      "text/plain": [
       "(1111, 11)"
      ]
     },
     "execution_count": 257,
     "metadata": {},
     "output_type": "execute_result"
    }
   ],
   "source": [
    "cat_columns.shape\n",
    " #checking shape of categorical data"
   ]
  },
  {
   "cell_type": "code",
   "execution_count": 258,
   "id": "a8d6425b",
   "metadata": {},
   "outputs": [
    {
     "data": {
      "text/plain": [
       "(1111, 8)"
      ]
     },
     "execution_count": 258,
     "metadata": {},
     "output_type": "execute_result"
    }
   ],
   "source": [
    "numerical_columns_16.shape   #checking shape for numerical_columns_16.shape"
   ]
  },
  {
   "cell_type": "markdown",
   "id": "da1e5a18",
   "metadata": {},
   "source": [
    "### Merging clean Data "
   ]
  },
  {
   "cell_type": "code",
   "execution_count": 259,
   "id": "c4d73348",
   "metadata": {},
   "outputs": [],
   "source": [
    "df16=pd.merge(cat_columns, numerical_columns_16, on=\"Employee No\", how=\"inner\")  \n",
    "#concat both categorical and numerical columns after cleaning it"
   ]
  },
  {
   "cell_type": "code",
   "execution_count": 260,
   "id": "b5a93129",
   "metadata": {},
   "outputs": [
    {
     "data": {
      "text/plain": [
       "Employee No                0\n",
       "Profit Center              0\n",
       "Employee Name              0\n",
       "Employee Position          0\n",
       "Employee Location          0\n",
       "People Group               0\n",
       "Employee Category          0\n",
       "Supervisor name            0\n",
       "Join Date                  0\n",
       "Current Status             0\n",
       "Termination Date         940\n",
       "Total Hours                0\n",
       "Total Available Hours      0\n",
       "Work Hours                 0\n",
       "Leave Hours                0\n",
       "Training Hours             0\n",
       "BD Hours                   0\n",
       "NC Hours                   0\n",
       "dtype: int64"
      ]
     },
     "execution_count": 260,
     "metadata": {},
     "output_type": "execute_result"
    }
   ],
   "source": [
    "df16.isnull().sum()  #checking null values for df_16"
   ]
  },
  {
   "cell_type": "code",
   "execution_count": 261,
   "id": "eeff7d3c",
   "metadata": {},
   "outputs": [
    {
     "data": {
      "text/plain": [
       "(1111, 18)"
      ]
     },
     "execution_count": 261,
     "metadata": {},
     "output_type": "execute_result"
    }
   ],
   "source": [
    "df16.shape   #checking shape for df_16"
   ]
  },
  {
   "cell_type": "code",
   "execution_count": 262,
   "id": "c33d057d",
   "metadata": {},
   "outputs": [],
   "source": [
    "df16['Utilization%']=round((df16['Work Hours']/df_16['Total Available Hours'])*100,2)\n",
    "#calculating utilization% by dividing work hours by Total Avaliable hours and rounding it up"
   ]
  },
  {
   "cell_type": "code",
   "execution_count": 263,
   "id": "9e05f117",
   "metadata": {},
   "outputs": [
    {
     "name": "stdout",
     "output_type": "stream",
     "text": [
      "0                     54\n",
      "1                     28\n",
      "-                      6\n",
      "0.8340807174887892     2\n",
      "0.75                   2\n",
      "                      ..\n",
      "1.0080784766301212     1\n",
      "1.2406361858371158     1\n",
      "0.8810975609756098     1\n",
      "0.7741935483870968     1\n",
      "0.8076923076923077     1\n",
      "Name: Utilization%, Length: 877, dtype: int64\n"
     ]
    }
   ],
   "source": [
    "value_counts = df_17['Utilization%'].value_counts()\n",
    "print(value_counts)\n",
    "#checking value counts of Utilization % of sheet 2 of the problem statement Dataset"
   ]
  },
  {
   "cell_type": "code",
   "execution_count": 264,
   "id": "63400a0c",
   "metadata": {},
   "outputs": [],
   "source": [
    "df_17['Utilization%']=df_17['Utilization%'].replace('-',0)\n",
    "#replacing (-) values drom utilization% of sheet 2 with 0 of the problem statement Dataset"
   ]
  },
  {
   "cell_type": "code",
   "execution_count": 265,
   "id": "6c86f5d6",
   "metadata": {},
   "outputs": [
    {
     "data": {
      "text/plain": [
       "(973, 19)"
      ]
     },
     "execution_count": 265,
     "metadata": {},
     "output_type": "execute_result"
    }
   ],
   "source": [
    "df_17.shape #checking shape for df_17"
   ]
  },
  {
   "cell_type": "code",
   "execution_count": 266,
   "id": "678b8a6a",
   "metadata": {},
   "outputs": [
    {
     "name": "stdout",
     "output_type": "stream",
     "text": [
      "0.000000    60\n",
      "1.000000    28\n",
      "0.514286     2\n",
      "0.946429     2\n",
      "0.444444     2\n",
      "            ..\n",
      "1.008078     1\n",
      "1.240636     1\n",
      "0.881098     1\n",
      "0.774194     1\n",
      "0.807692     1\n",
      "Name: Utilization%, Length: 876, dtype: int64\n"
     ]
    }
   ],
   "source": [
    "value_counts = df_17['Utilization%'].value_counts()\n",
    "print(value_counts)"
   ]
  },
  {
   "cell_type": "code",
   "execution_count": 267,
   "id": "eb8d73dd",
   "metadata": {},
   "outputs": [
    {
     "name": "stdout",
     "output_type": "stream",
     "text": [
      "0.00      56\n",
      "inf        4\n",
      "0.43       3\n",
      "150.60     2\n",
      "43.68      2\n",
      "          ..\n",
      "93.59      1\n",
      "165.98     1\n",
      "124.43     1\n",
      "153.76     1\n",
      "454.44     1\n",
      "Name: Utilization%, Length: 1035, dtype: int64\n"
     ]
    }
   ],
   "source": [
    "value_counts = df16['Utilization%'].value_counts()\n",
    "print(value_counts)\n",
    "#checking value counts of Utilization % of sheet 1 of the problem statement Dataset"
   ]
  },
  {
   "cell_type": "code",
   "execution_count": 268,
   "id": "a44730a5",
   "metadata": {},
   "outputs": [],
   "source": [
    "median_value = df16['Utilization%'].replace(np.inf, np.nan).median()\n",
    "df16['Utilization%'] = df16['Utilization%'].replace(np.inf, median_value)\n"
   ]
  },
  {
   "cell_type": "code",
   "execution_count": 269,
   "id": "d01b57a9",
   "metadata": {},
   "outputs": [
    {
     "name": "stdout",
     "output_type": "stream",
     "text": [
      "0.00       56\n",
      "108.65      5\n",
      "0.43        3\n",
      "150.60      2\n",
      "43.68       2\n",
      "           ..\n",
      "2352.29     1\n",
      "93.59       1\n",
      "165.98      1\n",
      "124.43      1\n",
      "454.44      1\n",
      "Name: Utilization%, Length: 1034, dtype: int64\n"
     ]
    }
   ],
   "source": [
    "value_counts = df16['Utilization%'].value_counts()  #validate data\n",
    "print(value_counts)"
   ]
  },
  {
   "cell_type": "code",
   "execution_count": 270,
   "id": "d222d426",
   "metadata": {},
   "outputs": [
    {
     "data": {
      "text/plain": [
       "(1111, 19)"
      ]
     },
     "execution_count": 270,
     "metadata": {},
     "output_type": "execute_result"
    }
   ],
   "source": [
    "df16.shape #samwe no of columns"
   ]
  },
  {
   "cell_type": "code",
   "execution_count": 271,
   "id": "d3ee9161",
   "metadata": {},
   "outputs": [
    {
     "data": {
      "text/plain": [
       "(973, 19)"
      ]
     },
     "execution_count": 271,
     "metadata": {},
     "output_type": "execute_result"
    }
   ],
   "source": [
    "df_17.shape #check shape "
   ]
  },
  {
   "cell_type": "code",
   "execution_count": 272,
   "id": "1acaeaab",
   "metadata": {},
   "outputs": [
    {
     "data": {
      "text/plain": [
       "Employee No                0\n",
       "Profit Center              0\n",
       "Employee Name              0\n",
       "Employee Position          0\n",
       "Employee Location          0\n",
       "People Group               0\n",
       "Employee Category          0\n",
       "Supervisor name            0\n",
       "Join Date                  0\n",
       "Current Status             0\n",
       "Termination Date         940\n",
       "Total Hours                0\n",
       "Total Available Hours      0\n",
       "Work Hours                 0\n",
       "Leave Hours                0\n",
       "Training Hours             0\n",
       "BD Hours                   0\n",
       "NC Hours                   0\n",
       "Utilization%               0\n",
       "dtype: int64"
      ]
     },
     "execution_count": 272,
     "metadata": {},
     "output_type": "execute_result"
    }
   ],
   "source": [
    "df16.isnull().sum() #validate data "
   ]
  },
  {
   "cell_type": "code",
   "execution_count": 273,
   "id": "66438044",
   "metadata": {},
   "outputs": [
    {
     "data": {
      "text/plain": [
       "Employee No                0\n",
       "Profit Center              0\n",
       "Employee Name              0\n",
       "Employee Position          0\n",
       "Employee Location          0\n",
       "People Group               0\n",
       "Employee Category          0\n",
       "Supervisor name            0\n",
       "Join Date                  0\n",
       "Current Status             0\n",
       "Termination Date         828\n",
       "Total Hours                0\n",
       "Total Available Hours      0\n",
       "Work Hours                 0\n",
       "Leave Hours                0\n",
       "Training Hours             0\n",
       "BD Hours                   0\n",
       "NC Hours                   0\n",
       "Utilization%               0\n",
       "dtype: int64"
      ]
     },
     "execution_count": 273,
     "metadata": {},
     "output_type": "execute_result"
    }
   ],
   "source": [
    "df_17.isnull().sum() #validate df_17 null values so we can remove it"
   ]
  },
  {
   "cell_type": "code",
   "execution_count": 274,
   "id": "7a2e6538",
   "metadata": {},
   "outputs": [],
   "source": [
    "df16['Termination Date'].fillna(0, inplace=True)\n",
    "#The fillna() method replaces the NULL values with a specified value 0"
   ]
  },
  {
   "cell_type": "code",
   "execution_count": 275,
   "id": "8a53c347",
   "metadata": {},
   "outputs": [
    {
     "data": {
      "text/plain": [
       "Employee No                0\n",
       "Profit Center              0\n",
       "Employee Name              0\n",
       "Employee Position          0\n",
       "Employee Location          0\n",
       "People Group               0\n",
       "Employee Category          0\n",
       "Supervisor name            0\n",
       "Join Date                  0\n",
       "Current Status             0\n",
       "Termination Date         828\n",
       "Total Hours                0\n",
       "Total Available Hours      0\n",
       "Work Hours                 0\n",
       "Leave Hours                0\n",
       "Training Hours             0\n",
       "BD Hours                   0\n",
       "NC Hours                   0\n",
       "Utilization%               0\n",
       "dtype: int64"
      ]
     },
     "execution_count": 275,
     "metadata": {},
     "output_type": "execute_result"
    }
   ],
   "source": [
    "df_17.isnull().sum()  #validate data"
   ]
  },
  {
   "cell_type": "code",
   "execution_count": 276,
   "id": "310f6a49",
   "metadata": {},
   "outputs": [],
   "source": [
    "df_17['Termination Date'].fillna(0, inplace=True)\n",
    "#The fillna() method replaces the NULL values with a specified value 0"
   ]
  },
  {
   "cell_type": "code",
   "execution_count": 277,
   "id": "86997085",
   "metadata": {},
   "outputs": [],
   "source": [
    "data=pd.concat([df16,df_17])\n",
    "#concat sheet 1 and sheet 2 into one sheet named as data"
   ]
  },
  {
   "cell_type": "code",
   "execution_count": 278,
   "id": "f39222b6",
   "metadata": {},
   "outputs": [
    {
     "data": {
      "text/plain": [
       "(2084, 19)"
      ]
     },
     "execution_count": 278,
     "metadata": {},
     "output_type": "execute_result"
    }
   ],
   "source": [
    "data.shape #validate data shape after concat"
   ]
  },
  {
   "cell_type": "code",
   "execution_count": 279,
   "id": "dce4f0df",
   "metadata": {},
   "outputs": [
    {
     "data": {
      "text/plain": [
       "Employee No              0\n",
       "Profit Center            0\n",
       "Employee Name            0\n",
       "Employee Position        0\n",
       "Employee Location        0\n",
       "People Group             0\n",
       "Employee Category        0\n",
       "Supervisor name          0\n",
       "Join Date                0\n",
       "Current Status           0\n",
       "Termination Date         0\n",
       "Total Hours              0\n",
       "Total Available Hours    0\n",
       "Work Hours               0\n",
       "Leave Hours              0\n",
       "Training Hours           0\n",
       "BD Hours                 0\n",
       "NC Hours                 0\n",
       "Utilization%             0\n",
       "dtype: int64"
      ]
     },
     "execution_count": 279,
     "metadata": {},
     "output_type": "execute_result"
    }
   ],
   "source": [
    "data.isnull().sum()  #validate data null values "
   ]
  },
  {
   "cell_type": "code",
   "execution_count": 280,
   "id": "291d9ee9",
   "metadata": {},
   "outputs": [],
   "source": [
    "term.rename(columns={'Employee Number':'Employee No'}, inplace=True)\n",
    "#Rename column of sheet 3 Term from Employee Number to Employee no so we can merge based on common column"
   ]
  },
  {
   "cell_type": "code",
   "execution_count": 281,
   "id": "f9ca0ced",
   "metadata": {},
   "outputs": [],
   "source": [
    "result=pd.merge(data,term, on='Employee No', how= 'left')\n",
    "#we make a final sheet named result using left join so have accurate results keeping only those employee who actually terminated .\n"
   ]
  },
  {
   "cell_type": "code",
   "execution_count": 282,
   "id": "7cae7e45",
   "metadata": {},
   "outputs": [
    {
     "data": {
      "text/plain": [
       "Employee No                 0\n",
       "Profit Center               0\n",
       "Employee Name_x             0\n",
       "Employee Position           0\n",
       "Employee Location           0\n",
       "People Group                0\n",
       "Employee Category           0\n",
       "Supervisor name             0\n",
       "Join Date                   0\n",
       "Current Status              0\n",
       "Termination Date            0\n",
       "Total Hours                 0\n",
       "Total Available Hours       0\n",
       "Work Hours                  0\n",
       "Leave Hours                 0\n",
       "Training Hours              0\n",
       "BD Hours                    0\n",
       "NC Hours                    0\n",
       "Utilization%                0\n",
       "Employee Name_y          1630\n",
       "YEAR of Birth            1630\n",
       "Gender                   1630\n",
       "Leaving Reason           1630\n",
       "dtype: int64"
      ]
     },
     "execution_count": 282,
     "metadata": {},
     "output_type": "execute_result"
    }
   ],
   "source": [
    "result.isnull().sum() #validate data"
   ]
  },
  {
   "cell_type": "code",
   "execution_count": 283,
   "id": "7dbf4e31",
   "metadata": {},
   "outputs": [
    {
     "data": {
      "text/plain": [
       "(2084, 23)"
      ]
     },
     "execution_count": 283,
     "metadata": {},
     "output_type": "execute_result"
    }
   ],
   "source": [
    "result.shape #validate result data shape"
   ]
  },
  {
   "cell_type": "code",
   "execution_count": 284,
   "id": "f0fe98ef",
   "metadata": {},
   "outputs": [],
   "source": [
    "result.drop(columns=[\"Employee Name_y\"], inplace=True)"
   ]
  },
  {
   "cell_type": "code",
   "execution_count": 285,
   "id": "019df124",
   "metadata": {},
   "outputs": [],
   "source": [
    "import pandas as pd\n",
    "import numpy as np\n",
    "\n",
    "# Assuming your DataFrame is named df16\n",
    "\n",
    "# Fill NaN values with a specific value (e.g., 0 for numerical columns or '' for strings)\n",
    "result['YEAR of Birth'].fillna(1954, inplace=True)\n",
    "result['Gender'].fillna('Not Disclosed', inplace=True)\n",
    "result['Leaving Reason'].fillna('Not Provided', inplace=True)\n"
   ]
  },
  {
   "cell_type": "code",
   "execution_count": 286,
   "id": "e0592d29",
   "metadata": {},
   "outputs": [
    {
     "data": {
      "text/plain": [
       "(2084, 22)"
      ]
     },
     "execution_count": 286,
     "metadata": {},
     "output_type": "execute_result"
    }
   ],
   "source": [
    "result.shape #validate result shape"
   ]
  },
  {
   "cell_type": "code",
   "execution_count": 287,
   "id": "36a3ad79",
   "metadata": {},
   "outputs": [
    {
     "data": {
      "text/plain": [
       "Employee No              0\n",
       "Profit Center            0\n",
       "Employee Name_x          0\n",
       "Employee Position        0\n",
       "Employee Location        0\n",
       "People Group             0\n",
       "Employee Category        0\n",
       "Supervisor name          0\n",
       "Join Date                0\n",
       "Current Status           0\n",
       "Termination Date         0\n",
       "Total Hours              0\n",
       "Total Available Hours    0\n",
       "Work Hours               0\n",
       "Leave Hours              0\n",
       "Training Hours           0\n",
       "BD Hours                 0\n",
       "NC Hours                 0\n",
       "Utilization%             0\n",
       "YEAR of Birth            0\n",
       "Gender                   0\n",
       "Leaving Reason           0\n",
       "dtype: int64"
      ]
     },
     "execution_count": 287,
     "metadata": {},
     "output_type": "execute_result"
    }
   ],
   "source": [
    "result.isnull().sum() #validate result data if they have null values or not"
   ]
  },
  {
   "cell_type": "code",
   "execution_count": 288,
   "id": "796e610c",
   "metadata": {},
   "outputs": [
    {
     "name": "stdout",
     "output_type": "stream",
     "text": [
      "<class 'pandas.core.frame.DataFrame'>\n",
      "Int64Index: 2084 entries, 0 to 2083\n",
      "Data columns (total 22 columns):\n",
      " #   Column                 Non-Null Count  Dtype         \n",
      "---  ------                 --------------  -----         \n",
      " 0   Employee No            2084 non-null   int64         \n",
      " 1   Profit Center          2084 non-null   object        \n",
      " 2   Employee Name_x        2084 non-null   object        \n",
      " 3   Employee Position      2084 non-null   object        \n",
      " 4   Employee Location      2084 non-null   object        \n",
      " 5   People Group           2084 non-null   object        \n",
      " 6   Employee Category      2084 non-null   object        \n",
      " 7   Supervisor name        2084 non-null   object        \n",
      " 8   Join Date              2084 non-null   datetime64[ns]\n",
      " 9   Current Status         2084 non-null   object        \n",
      " 10  Termination Date       316 non-null    datetime64[ns]\n",
      " 11  Total Hours            2084 non-null   int64         \n",
      " 12  Total Available Hours  2084 non-null   float64       \n",
      " 13  Work Hours             2084 non-null   float64       \n",
      " 14  Leave Hours            2084 non-null   float64       \n",
      " 15  Training Hours         2084 non-null   float64       \n",
      " 16  BD Hours               2084 non-null   float64       \n",
      " 17  NC Hours               2084 non-null   float64       \n",
      " 18  Utilization%           2084 non-null   float64       \n",
      " 19  YEAR of Birth          2084 non-null   float64       \n",
      " 20  Gender                 2084 non-null   object        \n",
      " 21  Leaving Reason         2084 non-null   object        \n",
      "dtypes: datetime64[ns](2), float64(8), int64(2), object(10)\n",
      "memory usage: 374.5+ KB\n",
      "None\n"
     ]
    }
   ],
   "source": [
    "import pandas as pd\n",
    "\n",
    "# Assuming 'df' is your DataFrame\n",
    "result['Termination Date'] = pd.to_datetime(result['Termination Date'], errors='coerce')\n",
    "\n",
    "# Check the data types to confirm the change\n",
    "print(result.info())\n"
   ]
  },
  {
   "cell_type": "code",
   "execution_count": 289,
   "id": "7e796283",
   "metadata": {},
   "outputs": [
    {
     "name": "stdout",
     "output_type": "stream",
     "text": [
      "<class 'pandas.core.frame.DataFrame'>\n",
      "Int64Index: 2084 entries, 0 to 2083\n",
      "Data columns (total 22 columns):\n",
      " #   Column                 Non-Null Count  Dtype         \n",
      "---  ------                 --------------  -----         \n",
      " 0   Employee No            2084 non-null   int64         \n",
      " 1   Profit Center          2084 non-null   object        \n",
      " 2   Employee Name_x        2084 non-null   object        \n",
      " 3   Employee Position      2084 non-null   object        \n",
      " 4   Employee Location      2084 non-null   object        \n",
      " 5   People Group           2084 non-null   object        \n",
      " 6   Employee Category      2084 non-null   object        \n",
      " 7   Supervisor name        2084 non-null   object        \n",
      " 8   Join Date              2084 non-null   datetime64[ns]\n",
      " 9   Current Status         2084 non-null   object        \n",
      " 10  Termination Date       316 non-null    datetime64[ns]\n",
      " 11  Total Hours            2084 non-null   int64         \n",
      " 12  Total Available Hours  2084 non-null   float64       \n",
      " 13  Work Hours             2084 non-null   float64       \n",
      " 14  Leave Hours            2084 non-null   float64       \n",
      " 15  Training Hours         2084 non-null   float64       \n",
      " 16  BD Hours               2084 non-null   float64       \n",
      " 17  NC Hours               2084 non-null   float64       \n",
      " 18  Utilization%           2084 non-null   float64       \n",
      " 19  YEAR of Birth          2084 non-null   float64       \n",
      " 20  Gender                 2084 non-null   object        \n",
      " 21  Leaving Reason         2084 non-null   object        \n",
      "dtypes: datetime64[ns](2), float64(8), int64(2), object(10)\n",
      "memory usage: 374.5+ KB\n"
     ]
    }
   ],
   "source": [
    "result.info() #validate data"
   ]
  },
  {
   "cell_type": "code",
   "execution_count": 290,
   "id": "3dc99acc",
   "metadata": {},
   "outputs": [
    {
     "data": {
      "image/png": "[encoded data removed]",
      "text/plain": [
       "<Figure size 1500x1000 with 7 Axes>"
      ]
     },
     "metadata": {},
     "output_type": "display_data"
    }
   ],
   "source": [
    "import matplotlib.pyplot as plt\n",
    "\n",
    "# List of variables to analyze\n",
    "variables = ['Total Hours', 'Utilization%', 'Work Hours', 'Leave Hours', 'Training Hours', 'BD Hours', 'NC Hours']\n",
    "\n",
    "# Create a figure with subplots\n",
    "plt.figure(figsize=(15, 10))\n",
    "\n",
    "# Loop through each variable and create a histogram\n",
    "for i, var in enumerate(variables):\n",
    "    plt.subplot(3, 3, i + 1)  # Create a subplot in a 3x3 grid\n",
    "    plt.hist(result[var].dropna(), bins=20, color='skyblue', edgecolor='black')  # Plot histogram\n",
    "    plt.title(f'{var} Distribution')  # Title of the histogram\n",
    "    plt.xlabel(var)  # X-axis label\n",
    "    plt.ylabel('Frequency')  # Y-axis label\n",
    "\n",
    "# Adjust layout to prevent overlap\n",
    "plt.tight_layout()\n",
    "plt.show()\n"
   ]
  },
  {
   "cell_type": "code",
   "execution_count": 291,
   "id": "880fb38d",
   "metadata": {},
   "outputs": [
    {
     "data": {
      "image/png": "[encoded data removed]",
      "text/plain": [
       "<Figure size 600x400 with 1 Axes>"
      ]
     },
     "metadata": {},
     "output_type": "display_data"
    },
    {
     "data": {
      "image/png": "[encoded data removed]",
      "text/plain": [
       "<Figure size 600x400 with 1 Axes>"
      ]
     },
     "metadata": {},
     "output_type": "display_data"
    },
    {
     "data": {
      "image/png": "[encoded data removed]",
      "text/plain": [
       "<Figure size 600x400 with 1 Axes>"
      ]
     },
     "metadata": {},
     "output_type": "display_data"
    },
    {
     "data": {
      "image/png": "[encoded data removed]",
      "text/plain": [
       "<Figure size 600x400 with 1 Axes>"
      ]
     },
     "metadata": {},
     "output_type": "display_data"
    }
   ],
   "source": [
    "import seaborn as sns\n",
    "import matplotlib.pyplot as plt\n",
    "\n",
    "# Define pairs of variables for scatter plots\n",
    "pairs = [\n",
    "    ('Total Hours', 'Utilization%'),\n",
    "    ('Work Hours', 'Leave Hours'),\n",
    "    ('Training Hours', 'BD Hours'),\n",
    "    ('Utilization%', 'NC Hours')\n",
    "]\n",
    "\n",
    "# Create scatter plots for each pair\n",
    "for x, y in pairs:\n",
    "    if x in result.columns and y in result.columns:\n",
    "        plt.figure(figsize=(6, 4))  # Set the size of the figure\n",
    "        sns.scatterplot(x=x, y=y, data=result, color='skyblue')  # Create the scatter plot\n",
    "        plt.title(f'{x} vs {y}')  # Plot title\n",
    "        plt.xlabel(x)  # X-axis label\n",
    "        plt.ylabel(y)  # Y-axis label\n",
    "        plt.grid(True)\n",
    "        plt.show()  # Display the plot\n",
    "    else:\n",
    "        print(f\"Columns {x} or {y} not found.\")\n",
    "\n"
   ]
  },
  {
   "cell_type": "code",
   "execution_count": 296,
   "id": "f5f6207b",
   "metadata": {},
   "outputs": [
    {
     "name": "stdout",
     "output_type": "stream",
     "text": [
      "                       Employee No  Total Hours  Total Available Hours  \\\n",
      "Employee No               1.000000    -0.519037              -0.507152   \n",
      "Total Hours              -0.519037     1.000000               0.987335   \n",
      "Total Available Hours    -0.507152     0.987335               1.000000   \n",
      "Work Hours               -0.302048     0.805625               0.812270   \n",
      "Leave Hours              -0.414175     0.641319               0.514362   \n",
      "Training Hours            0.178760     0.297041               0.272202   \n",
      "BD Hours                 -0.249453     0.207586               0.214914   \n",
      "NC Hours                 -0.334141     0.455296               0.463739   \n",
      "Utilization%             -0.024884     0.133756               0.135406   \n",
      "YEAR of Birth            -0.150342    -0.244573              -0.238669   \n",
      "\n",
      "                       Work Hours  Leave Hours  Training Hours  BD Hours  \\\n",
      "Employee No             -0.302048    -0.414175        0.178760 -0.249453   \n",
      "Total Hours              0.805625     0.641319        0.297041  0.207586   \n",
      "Total Available Hours    0.812270     0.514362        0.272202  0.214914   \n",
      "Work Hours               1.000000     0.428029        0.274985 -0.125825   \n",
      "Leave Hours              0.428029     1.000000        0.145791  0.094336   \n",
      "Training Hours           0.274985     0.145791        1.000000  0.030825   \n",
      "BD Hours                -0.125825     0.094336        0.030825  1.000000   \n",
      "NC Hours                -0.011899     0.228477        0.091047  0.003028   \n",
      "Utilization%             0.151159     0.062460        0.083567 -0.009061   \n",
      "YEAR of Birth           -0.214855    -0.152193       -0.195606 -0.077707   \n",
      "\n",
      "                       NC Hours  Utilization%  YEAR of Birth  \n",
      "Employee No           -0.334141     -0.024884      -0.150342  \n",
      "Total Hours            0.455296      0.133756      -0.244573  \n",
      "Total Available Hours  0.463739      0.135406      -0.238669  \n",
      "Work Hours            -0.011899      0.151159      -0.214855  \n",
      "Leave Hours            0.228477      0.062460      -0.152193  \n",
      "Training Hours         0.091047      0.083567      -0.195606  \n",
      "BD Hours               0.003028     -0.009061      -0.077707  \n",
      "NC Hours               1.000000      0.013768      -0.056295  \n",
      "Utilization%           0.013768      1.000000      -0.008588  \n",
      "YEAR of Birth         -0.056295     -0.008588       1.000000  \n"
     ]
    },
    {
     "name": "stderr",
     "output_type": "stream",
     "text": [
      "C:\\Users\\Tarushee\\AppData\\Local\\Temp\\ipykernel_19148\\1016309508.py:2: FutureWarning: The default value of numeric_only in DataFrame.corr is deprecated. In a future version, it will default to False. Select only valid columns or specify the value of numeric_only to silence this warning.\n",
      "  correlation_matrix = result.corr()\n"
     ]
    }
   ],
   "source": [
    "# Calculate correlation matrix\n",
    "correlation_matrix = result.corr()\n",
    "\n",
    "# Display correlation matrix\n",
    "print(correlation_matrix)"
   ]
  },
  {
   "cell_type": "code",
   "execution_count": 299,
   "id": "49448b99",
   "metadata": {},
   "outputs": [
    {
     "data": {
      "image/png": "[encoded data removed]",
      "text/plain": [
       "<Figure size 1000x800 with 2 Axes>"
      ]
     },
     "metadata": {},
     "output_type": "display_data"
    }
   ],
   "source": [
    "#visulaize correlation to identify high correlation variable and drop them\n",
    "import seaborn as sns\n",
    "\n",
    "# Plot correlation heatmap\n",
    "plt.figure(figsize=(10, 8))\n",
    "sns.heatmap(correlation_matrix, annot=True, cmap='coolwarm', fmt=\".2f\", linewidths=.5)\n",
    "plt.title('Correlation Heatmap')\n",
    "plt.show()"
   ]
  },
  {
   "cell_type": "code",
   "execution_count": 300,
   "id": "53940e5d",
   "metadata": {},
   "outputs": [
    {
     "data": {
      "text/html": [
       "<div>\n",
       "<style scoped>\n",
       "    .dataframe tbody tr th:only-of-type {\n",
       "        vertical-align: middle;\n",
       "    }\n",
       "\n",
       "    .dataframe tbody tr th {\n",
       "        vertical-align: top;\n",
       "    }\n",
       "\n",
       "    .dataframe thead th {\n",
       "        text-align: right;\n",
       "    }\n",
       "</style>\n",
       "<table border=\"1\" class=\"dataframe\">\n",
       "  <thead>\n",
       "    <tr style=\"text-align: right;\">\n",
       "      <th></th>\n",
       "      <th>0</th>\n",
       "      <th>1</th>\n",
       "      <th>2</th>\n",
       "      <th>3</th>\n",
       "      <th>4</th>\n",
       "    </tr>\n",
       "  </thead>\n",
       "  <tbody>\n",
       "    <tr>\n",
       "      <th>Employee No</th>\n",
       "      <td>1092</td>\n",
       "      <td>490</td>\n",
       "      <td>655</td>\n",
       "      <td>1085</td>\n",
       "      <td>610</td>\n",
       "    </tr>\n",
       "    <tr>\n",
       "      <th>Profit Center</th>\n",
       "      <td>PC - 3</td>\n",
       "      <td>PC - 5</td>\n",
       "      <td>PC - 3</td>\n",
       "      <td>PC - 2</td>\n",
       "      <td>PC - 1</td>\n",
       "    </tr>\n",
       "    <tr>\n",
       "      <th>Employee Name_x</th>\n",
       "      <td>Aaron Mcneil</td>\n",
       "      <td>Abagail Druci</td>\n",
       "      <td>Abigail Amabel</td>\n",
       "      <td>Abram Tate</td>\n",
       "      <td>Adda Rachel</td>\n",
       "    </tr>\n",
       "    <tr>\n",
       "      <th>Employee Position</th>\n",
       "      <td>Level 7</td>\n",
       "      <td>Level 6</td>\n",
       "      <td>Level 7</td>\n",
       "      <td>Level 7</td>\n",
       "      <td>Level 7</td>\n",
       "    </tr>\n",
       "    <tr>\n",
       "      <th>Employee Location</th>\n",
       "      <td>Location 1</td>\n",
       "      <td>Location 1</td>\n",
       "      <td>Location 1</td>\n",
       "      <td>Location 9</td>\n",
       "      <td>Location 3</td>\n",
       "    </tr>\n",
       "    <tr>\n",
       "      <th>People Group</th>\n",
       "      <td>Client Service Staff</td>\n",
       "      <td>Client Service Staff</td>\n",
       "      <td>Client Service Staff</td>\n",
       "      <td>Client Service Staff</td>\n",
       "      <td>Client Service Staff</td>\n",
       "    </tr>\n",
       "    <tr>\n",
       "      <th>Employee Category</th>\n",
       "      <td>Staff on Probation</td>\n",
       "      <td>Confirmed Staff</td>\n",
       "      <td>Confirmed Staff</td>\n",
       "      <td>Staff on Probation</td>\n",
       "      <td>Confirmed Staff</td>\n",
       "    </tr>\n",
       "    <tr>\n",
       "      <th>Supervisor name</th>\n",
       "      <td>Kali Gwendolyn</td>\n",
       "      <td>Orsa Margeaux</td>\n",
       "      <td>Iormina Lucienne</td>\n",
       "      <td>Ruthe Bellina</td>\n",
       "      <td>Ilsa Marigold</td>\n",
       "    </tr>\n",
       "    <tr>\n",
       "      <th>Join Date</th>\n",
       "      <td>2018-03-31 00:00:00</td>\n",
       "      <td>2015-11-30 00:00:00</td>\n",
       "      <td>2016-06-30 00:00:00</td>\n",
       "      <td>2018-03-31 00:00:00</td>\n",
       "      <td>2016-05-31 00:00:00</td>\n",
       "    </tr>\n",
       "    <tr>\n",
       "      <th>Current Status</th>\n",
       "      <td>New Joiner</td>\n",
       "      <td>Active</td>\n",
       "      <td>Active</td>\n",
       "      <td>New Joiner</td>\n",
       "      <td>Active</td>\n",
       "    </tr>\n",
       "    <tr>\n",
       "      <th>Termination Date</th>\n",
       "      <td>NaT</td>\n",
       "      <td>NaT</td>\n",
       "      <td>NaT</td>\n",
       "      <td>NaT</td>\n",
       "      <td>NaT</td>\n",
       "    </tr>\n",
       "    <tr>\n",
       "      <th>Total Hours</th>\n",
       "      <td>120</td>\n",
       "      <td>4168</td>\n",
       "      <td>3760</td>\n",
       "      <td>160</td>\n",
       "      <td>3960</td>\n",
       "    </tr>\n",
       "    <tr>\n",
       "      <th>Total Available Hours</th>\n",
       "      <td>32.0</td>\n",
       "      <td>3616.0</td>\n",
       "      <td>3479.0</td>\n",
       "      <td>131.0</td>\n",
       "      <td>3575.5</td>\n",
       "    </tr>\n",
       "    <tr>\n",
       "      <th>Work Hours</th>\n",
       "      <td>32.0</td>\n",
       "      <td>2326.0</td>\n",
       "      <td>1728.5</td>\n",
       "      <td>72.0</td>\n",
       "      <td>2714.0</td>\n",
       "    </tr>\n",
       "    <tr>\n",
       "      <th>Leave Hours</th>\n",
       "      <td>8.0</td>\n",
       "      <td>552.0</td>\n",
       "      <td>248.0</td>\n",
       "      <td>8.0</td>\n",
       "      <td>312.0</td>\n",
       "    </tr>\n",
       "    <tr>\n",
       "      <th>Training Hours</th>\n",
       "      <td>80.0</td>\n",
       "      <td>0.0</td>\n",
       "      <td>33.0</td>\n",
       "      <td>21.0</td>\n",
       "      <td>72.5</td>\n",
       "    </tr>\n",
       "    <tr>\n",
       "      <th>BD Hours</th>\n",
       "      <td>0.0</td>\n",
       "      <td>0.0</td>\n",
       "      <td>0.0</td>\n",
       "      <td>0.0</td>\n",
       "      <td>0.0</td>\n",
       "    </tr>\n",
       "    <tr>\n",
       "      <th>NC Hours</th>\n",
       "      <td>0.0</td>\n",
       "      <td>1532.0</td>\n",
       "      <td>1776.0</td>\n",
       "      <td>59.0</td>\n",
       "      <td>890.5</td>\n",
       "    </tr>\n",
       "    <tr>\n",
       "      <th>Utilization%</th>\n",
       "      <td>100.0</td>\n",
       "      <td>130.38</td>\n",
       "      <td>94.35</td>\n",
       "      <td>4.72</td>\n",
       "      <td>139.04</td>\n",
       "    </tr>\n",
       "    <tr>\n",
       "      <th>YEAR of Birth</th>\n",
       "      <td>1954.0</td>\n",
       "      <td>1954.0</td>\n",
       "      <td>1954.0</td>\n",
       "      <td>1954.0</td>\n",
       "      <td>1954.0</td>\n",
       "    </tr>\n",
       "    <tr>\n",
       "      <th>Gender</th>\n",
       "      <td>Not Disclosed</td>\n",
       "      <td>Not Disclosed</td>\n",
       "      <td>Not Disclosed</td>\n",
       "      <td>Not Disclosed</td>\n",
       "      <td>Not Disclosed</td>\n",
       "    </tr>\n",
       "    <tr>\n",
       "      <th>Leaving Reason</th>\n",
       "      <td>Not Provided</td>\n",
       "      <td>Not Provided</td>\n",
       "      <td>Not Provided</td>\n",
       "      <td>Not Provided</td>\n",
       "      <td>Not Provided</td>\n",
       "    </tr>\n",
       "  </tbody>\n",
       "</table>\n",
       "</div>"
      ],
      "text/plain": [
       "                                          0                     1  \\\n",
       "Employee No                            1092                   490   \n",
       "Profit Center                        PC - 3                PC - 5   \n",
       "Employee Name_x                Aaron Mcneil         Abagail Druci   \n",
       "Employee Position                   Level 7               Level 6   \n",
       "Employee Location                Location 1            Location 1   \n",
       "People Group           Client Service Staff  Client Service Staff   \n",
       "Employee Category        Staff on Probation       Confirmed Staff   \n",
       "Supervisor name              Kali Gwendolyn         Orsa Margeaux   \n",
       "Join Date               2018-03-31 00:00:00   2015-11-30 00:00:00   \n",
       "Current Status                   New Joiner                Active   \n",
       "Termination Date                        NaT                   NaT   \n",
       "Total Hours                             120                  4168   \n",
       "Total Available Hours                  32.0                3616.0   \n",
       "Work Hours                             32.0                2326.0   \n",
       "Leave Hours                             8.0                 552.0   \n",
       "Training Hours                         80.0                   0.0   \n",
       "BD Hours                                0.0                   0.0   \n",
       "NC Hours                                0.0                1532.0   \n",
       "Utilization%                          100.0                130.38   \n",
       "YEAR of Birth                        1954.0                1954.0   \n",
       "Gender                        Not Disclosed         Not Disclosed   \n",
       "Leaving Reason                 Not Provided          Not Provided   \n",
       "\n",
       "                                          2                     3  \\\n",
       "Employee No                             655                  1085   \n",
       "Profit Center                        PC - 3                PC - 2   \n",
       "Employee Name_x              Abigail Amabel            Abram Tate   \n",
       "Employee Position                   Level 7               Level 7   \n",
       "Employee Location                Location 1            Location 9   \n",
       "People Group           Client Service Staff  Client Service Staff   \n",
       "Employee Category           Confirmed Staff    Staff on Probation   \n",
       "Supervisor name            Iormina Lucienne         Ruthe Bellina   \n",
       "Join Date               2016-06-30 00:00:00   2018-03-31 00:00:00   \n",
       "Current Status                       Active            New Joiner   \n",
       "Termination Date                        NaT                   NaT   \n",
       "Total Hours                            3760                   160   \n",
       "Total Available Hours                3479.0                 131.0   \n",
       "Work Hours                           1728.5                  72.0   \n",
       "Leave Hours                           248.0                   8.0   \n",
       "Training Hours                         33.0                  21.0   \n",
       "BD Hours                                0.0                   0.0   \n",
       "NC Hours                             1776.0                  59.0   \n",
       "Utilization%                          94.35                  4.72   \n",
       "YEAR of Birth                        1954.0                1954.0   \n",
       "Gender                        Not Disclosed         Not Disclosed   \n",
       "Leaving Reason                 Not Provided          Not Provided   \n",
       "\n",
       "                                          4  \n",
       "Employee No                             610  \n",
       "Profit Center                        PC - 1  \n",
       "Employee Name_x                 Adda Rachel  \n",
       "Employee Position                   Level 7  \n",
       "Employee Location                Location 3  \n",
       "People Group           Client Service Staff  \n",
       "Employee Category           Confirmed Staff  \n",
       "Supervisor name               Ilsa Marigold  \n",
       "Join Date               2016-05-31 00:00:00  \n",
       "Current Status                       Active  \n",
       "Termination Date                        NaT  \n",
       "Total Hours                            3960  \n",
       "Total Available Hours                3575.5  \n",
       "Work Hours                           2714.0  \n",
       "Leave Hours                           312.0  \n",
       "Training Hours                         72.5  \n",
       "BD Hours                                0.0  \n",
       "NC Hours                              890.5  \n",
       "Utilization%                         139.04  \n",
       "YEAR of Birth                        1954.0  \n",
       "Gender                        Not Disclosed  \n",
       "Leaving Reason                 Not Provided  "
      ]
     },
     "execution_count": 300,
     "metadata": {},
     "output_type": "execute_result"
    }
   ],
   "source": [
    "result.head().T  #validate result data"
   ]
  },
  {
   "cell_type": "markdown",
   "id": "21a56234",
   "metadata": {},
   "source": [
    "\n",
    "### Here are the key insights from the provided visualizations\n",
    "\n",
    "##### 1. Correlation Heatmap Insights:\n",
    "\n",
    "#####  High Correlation:\n",
    "Total Hours and Total Available Hours: High correlation (0.99) indicates that the total available hours largely determine total hours logged. This suggests that managing availability could directly impact overall productivity.\n",
    "Work Hours with Total Hours and Total Available Hours: Work hours are strongly correlated with both total hours (0.81) and total available hours (0.81). Focus on optimizing work hours can significantly influence total hours and availability.\n",
    "\n",
    "##### Low Correlation:\n",
    "\n",
    " Utilization%: Shows low correlation with most variables, indicating that utilization might be influenced by factors other than just hours worked or available.\n",
    "\n",
    "Year of Birth: It has a low correlation with other variables, suggesting that age is not a major factor in the hours worked or other time metrics.\n",
    "#####  2. Distribution Histograms Insights:\n",
    "Skewed Distribution:\n",
    "Total Hours, Work Hours, and Utilization%: These distributions are highly skewed, indicating that a small group of employees may contribute disproportionately to total hours and utilization. There could be a need to redistribute workloads or investigate why certain employees are over- or under-utilized.\n",
    "Training and BD Hours: These hours are concentrated on the lower end, suggesting underutilization of training and business development opportunities, which could be a potential area for growth or improvement.\n",
    "\n",
    "#####  3. Scatter Plot Insights:\n",
    "\n",
    "Total Hours vs Utilization%:\n",
    "The scatter plot indicates that higher total hours don't necessarily equate to higher utilization rates. This suggests inefficiencies where time might not be effectively contributing to productive output.\n",
    "\n",
    "Work Hours vs Leave Hours:\n",
    "There is no strong pattern, indicating variability in how employees balance work and leave. This could highlight areas for policy standardization.\n",
    "\n",
    "Training Hours vs BD Hours:\n",
    "The lack of a strong pattern suggests that employees who spend time on training are not necessarily involved in business development activities, which may indicate a need for better integration of these two activities.\n",
    "\n",
    "Utilization% vs NC Hours:\n",
    "Higher non-chargeable (NC) hours tend to correspond with lower utilization rates, suggesting that reducing NC hours could improve overall utilization.\n",
    "\n",
    "#### Business Recommendations:\n",
    "\n",
    "Optimize Resource Allocation: Focus on redistributing work hours and total available hours to ensure better utilization across the board.\n",
    "\n",
    "Utilization Efficiency: Investigate factors affecting low utilization despite high total hours. This might involve process improvements or better time management strategies.\n",
    "\n",
    "\n",
    "Enhance Training and Development: Increase emphasis on training and business development hours, ensuring they align better with overall business goals and employee development.\n",
    "\n",
    "\n",
    "Standardize Policies: Consider standardizing leave policies to reduce variability and ensure fair distribution of work.\n",
    "These insights can guide strategic decisions in workforce management, aiming to enhance productivity, utilization, and employee development."
   ]
  },
  {
   "cell_type": "code",
   "execution_count": 303,
   "id": "fe103cc2",
   "metadata": {},
   "outputs": [
    {
     "name": "stdout",
     "output_type": "stream",
     "text": [
      "<class 'pandas.core.frame.DataFrame'>\n",
      "Int64Index: 2084 entries, 0 to 2083\n",
      "Data columns (total 22 columns):\n",
      " #   Column                 Non-Null Count  Dtype         \n",
      "---  ------                 --------------  -----         \n",
      " 0   Employee No            2084 non-null   int64         \n",
      " 1   Profit Center          2084 non-null   object        \n",
      " 2   Employee Name_x        2084 non-null   object        \n",
      " 3   Employee Position      2084 non-null   object        \n",
      " 4   Employee Location      2084 non-null   object        \n",
      " 5   People Group           2084 non-null   object        \n",
      " 6   Employee Category      2084 non-null   object        \n",
      " 7   Supervisor name        2084 non-null   object        \n",
      " 8   Join Date              2084 non-null   datetime64[ns]\n",
      " 9   Current Status         2084 non-null   object        \n",
      " 10  Termination Date       316 non-null    datetime64[ns]\n",
      " 11  Total Hours            2084 non-null   int64         \n",
      " 12  Total Available Hours  2084 non-null   float64       \n",
      " 13  Work Hours             2084 non-null   float64       \n",
      " 14  Leave Hours            2084 non-null   float64       \n",
      " 15  Training Hours         2084 non-null   float64       \n",
      " 16  BD Hours               2084 non-null   float64       \n",
      " 17  NC Hours               2084 non-null   float64       \n",
      " 18  Utilization%           2084 non-null   float64       \n",
      " 19  YEAR of Birth          2084 non-null   float64       \n",
      " 20  Gender                 2084 non-null   object        \n",
      " 21  Leaving Reason         2084 non-null   object        \n",
      "dtypes: datetime64[ns](2), float64(8), int64(2), object(10)\n",
      "memory usage: 374.5+ KB\n"
     ]
    }
   ],
   "source": [
    "result.info() #validate tdata after merge"
   ]
  },
  {
   "cell_type": "raw",
   "id": "72da8916",
   "metadata": {},
   "source": []
  },
  {
   "cell_type": "code",
   "execution_count": 304,
   "id": "37368a9e",
   "metadata": {},
   "outputs": [
    {
     "name": "stdout",
     "output_type": "stream",
     "text": [
      "<class 'pandas.core.series.Series'>\n",
      "Int64Index: 2084 entries, 0 to 2083\n",
      "Series name: Termination Date\n",
      "Non-Null Count  Dtype         \n",
      "--------------  -----         \n",
      "316 non-null    datetime64[ns]\n",
      "dtypes: datetime64[ns](1)\n",
      "memory usage: 32.6 KB\n"
     ]
    }
   ],
   "source": [
    "result[\"Termination Date\"].info() #validate target columns"
   ]
  },
  {
   "cell_type": "code",
   "execution_count": 305,
   "id": "3e29a9d2",
   "metadata": {},
   "outputs": [
    {
     "data": {
      "text/plain": [
       "2017-09-30    26\n",
       "2017-12-31    23\n",
       "2016-09-30    16\n",
       "2016-08-31    15\n",
       "2017-03-31    15\n",
       "2017-11-30    15\n",
       "2018-02-28    14\n",
       "2017-04-30    13\n",
       "2018-01-31    13\n",
       "2016-05-31    13\n",
       "2017-06-30    12\n",
       "2016-12-31    12\n",
       "2017-10-31    11\n",
       "2017-05-31    11\n",
       "2017-07-31    11\n",
       "2016-06-30    10\n",
       "2016-11-30    10\n",
       "2016-10-31    10\n",
       "2018-04-30    10\n",
       "2016-04-30     9\n",
       "2017-02-28     9\n",
       "2018-05-31     9\n",
       "2016-07-31     8\n",
       "2017-08-31     8\n",
       "2017-01-31     7\n",
       "2018-03-31     6\n",
       "Name: Termination Date, dtype: int64"
      ]
     },
     "execution_count": 305,
     "metadata": {},
     "output_type": "execute_result"
    }
   ],
   "source": [
    "result[\"Termination Date\"].value_counts() #validate target columns"
   ]
  },
  {
   "cell_type": "code",
   "execution_count": 306,
   "id": "54636e4f",
   "metadata": {},
   "outputs": [
    {
     "data": {
      "text/plain": [
       "1768"
      ]
     },
     "execution_count": 306,
     "metadata": {},
     "output_type": "execute_result"
    }
   ],
   "source": [
    "result[\"Termination Date\"].isnull().sum() #checking null values in the termination Date"
   ]
  },
  {
   "cell_type": "code",
   "execution_count": 307,
   "id": "cad5a195",
   "metadata": {},
   "outputs": [],
   "source": [
    "# Encode Termination Date column\n",
    "result['termination_status'] = result['Termination Date'].apply(lambda x: 1 if pd.notnull(x) else 0)\n"
   ]
  },
  {
   "cell_type": "code",
   "execution_count": 308,
   "id": "383b0437",
   "metadata": {
    "scrolled": true
   },
   "outputs": [
    {
     "data": {
      "text/html": [
       "<div>\n",
       "<style scoped>\n",
       "    .dataframe tbody tr th:only-of-type {\n",
       "        vertical-align: middle;\n",
       "    }\n",
       "\n",
       "    .dataframe tbody tr th {\n",
       "        vertical-align: top;\n",
       "    }\n",
       "\n",
       "    .dataframe thead th {\n",
       "        text-align: right;\n",
       "    }\n",
       "</style>\n",
       "<table border=\"1\" class=\"dataframe\">\n",
       "  <thead>\n",
       "    <tr style=\"text-align: right;\">\n",
       "      <th></th>\n",
       "      <th>Employee No</th>\n",
       "      <th>Profit Center</th>\n",
       "      <th>Employee Name_x</th>\n",
       "      <th>Employee Position</th>\n",
       "      <th>Employee Location</th>\n",
       "      <th>People Group</th>\n",
       "      <th>Employee Category</th>\n",
       "      <th>Supervisor name</th>\n",
       "      <th>Join Date</th>\n",
       "      <th>Current Status</th>\n",
       "      <th>...</th>\n",
       "      <th>Work Hours</th>\n",
       "      <th>Leave Hours</th>\n",
       "      <th>Training Hours</th>\n",
       "      <th>BD Hours</th>\n",
       "      <th>NC Hours</th>\n",
       "      <th>Utilization%</th>\n",
       "      <th>YEAR of Birth</th>\n",
       "      <th>Gender</th>\n",
       "      <th>Leaving Reason</th>\n",
       "      <th>termination_status</th>\n",
       "    </tr>\n",
       "  </thead>\n",
       "  <tbody>\n",
       "    <tr>\n",
       "      <th>0</th>\n",
       "      <td>1092</td>\n",
       "      <td>PC - 3</td>\n",
       "      <td>Aaron Mcneil</td>\n",
       "      <td>Level 7</td>\n",
       "      <td>Location 1</td>\n",
       "      <td>Client Service Staff</td>\n",
       "      <td>Staff on Probation</td>\n",
       "      <td>Kali Gwendolyn</td>\n",
       "      <td>2018-03-31</td>\n",
       "      <td>New Joiner</td>\n",
       "      <td>...</td>\n",
       "      <td>32.0</td>\n",
       "      <td>8.0</td>\n",
       "      <td>80.0</td>\n",
       "      <td>0.0</td>\n",
       "      <td>0.0</td>\n",
       "      <td>100.00</td>\n",
       "      <td>1954.0</td>\n",
       "      <td>Not Disclosed</td>\n",
       "      <td>Not Provided</td>\n",
       "      <td>0</td>\n",
       "    </tr>\n",
       "    <tr>\n",
       "      <th>1</th>\n",
       "      <td>490</td>\n",
       "      <td>PC - 5</td>\n",
       "      <td>Abagail Druci</td>\n",
       "      <td>Level 6</td>\n",
       "      <td>Location 1</td>\n",
       "      <td>Client Service Staff</td>\n",
       "      <td>Confirmed Staff</td>\n",
       "      <td>Orsa Margeaux</td>\n",
       "      <td>2015-11-30</td>\n",
       "      <td>Active</td>\n",
       "      <td>...</td>\n",
       "      <td>2326.0</td>\n",
       "      <td>552.0</td>\n",
       "      <td>0.0</td>\n",
       "      <td>0.0</td>\n",
       "      <td>1532.0</td>\n",
       "      <td>130.38</td>\n",
       "      <td>1954.0</td>\n",
       "      <td>Not Disclosed</td>\n",
       "      <td>Not Provided</td>\n",
       "      <td>0</td>\n",
       "    </tr>\n",
       "    <tr>\n",
       "      <th>2</th>\n",
       "      <td>655</td>\n",
       "      <td>PC - 3</td>\n",
       "      <td>Abigail Amabel</td>\n",
       "      <td>Level 7</td>\n",
       "      <td>Location 1</td>\n",
       "      <td>Client Service Staff</td>\n",
       "      <td>Confirmed Staff</td>\n",
       "      <td>Iormina Lucienne</td>\n",
       "      <td>2016-06-30</td>\n",
       "      <td>Active</td>\n",
       "      <td>...</td>\n",
       "      <td>1728.5</td>\n",
       "      <td>248.0</td>\n",
       "      <td>33.0</td>\n",
       "      <td>0.0</td>\n",
       "      <td>1776.0</td>\n",
       "      <td>94.35</td>\n",
       "      <td>1954.0</td>\n",
       "      <td>Not Disclosed</td>\n",
       "      <td>Not Provided</td>\n",
       "      <td>0</td>\n",
       "    </tr>\n",
       "    <tr>\n",
       "      <th>3</th>\n",
       "      <td>1085</td>\n",
       "      <td>PC - 2</td>\n",
       "      <td>Abram Tate</td>\n",
       "      <td>Level 7</td>\n",
       "      <td>Location 9</td>\n",
       "      <td>Client Service Staff</td>\n",
       "      <td>Staff on Probation</td>\n",
       "      <td>Ruthe Bellina</td>\n",
       "      <td>2018-03-31</td>\n",
       "      <td>New Joiner</td>\n",
       "      <td>...</td>\n",
       "      <td>72.0</td>\n",
       "      <td>8.0</td>\n",
       "      <td>21.0</td>\n",
       "      <td>0.0</td>\n",
       "      <td>59.0</td>\n",
       "      <td>4.72</td>\n",
       "      <td>1954.0</td>\n",
       "      <td>Not Disclosed</td>\n",
       "      <td>Not Provided</td>\n",
       "      <td>0</td>\n",
       "    </tr>\n",
       "    <tr>\n",
       "      <th>4</th>\n",
       "      <td>610</td>\n",
       "      <td>PC - 1</td>\n",
       "      <td>Adda Rachel</td>\n",
       "      <td>Level 7</td>\n",
       "      <td>Location 3</td>\n",
       "      <td>Client Service Staff</td>\n",
       "      <td>Confirmed Staff</td>\n",
       "      <td>Ilsa Marigold</td>\n",
       "      <td>2016-05-31</td>\n",
       "      <td>Active</td>\n",
       "      <td>...</td>\n",
       "      <td>2714.0</td>\n",
       "      <td>312.0</td>\n",
       "      <td>72.5</td>\n",
       "      <td>0.0</td>\n",
       "      <td>890.5</td>\n",
       "      <td>139.04</td>\n",
       "      <td>1954.0</td>\n",
       "      <td>Not Disclosed</td>\n",
       "      <td>Not Provided</td>\n",
       "      <td>0</td>\n",
       "    </tr>\n",
       "  </tbody>\n",
       "</table>\n",
       "<p>5 rows × 23 columns</p>\n",
       "</div>"
      ],
      "text/plain": [
       "   Employee No Profit Center Employee Name_x Employee Position  \\\n",
       "0         1092        PC - 3    Aaron Mcneil           Level 7   \n",
       "1          490        PC - 5   Abagail Druci           Level 6   \n",
       "2          655        PC - 3  Abigail Amabel           Level 7   \n",
       "3         1085        PC - 2      Abram Tate           Level 7   \n",
       "4          610        PC - 1     Adda Rachel           Level 7   \n",
       "\n",
       "  Employee Location          People Group   Employee Category  \\\n",
       "0        Location 1  Client Service Staff  Staff on Probation   \n",
       "1        Location 1  Client Service Staff     Confirmed Staff   \n",
       "2        Location 1  Client Service Staff     Confirmed Staff   \n",
       "3        Location 9  Client Service Staff  Staff on Probation   \n",
       "4        Location 3  Client Service Staff     Confirmed Staff   \n",
       "\n",
       "    Supervisor name  Join Date Current Status  ... Work Hours  Leave Hours  \\\n",
       "0    Kali Gwendolyn 2018-03-31     New Joiner  ...       32.0          8.0   \n",
       "1     Orsa Margeaux 2015-11-30         Active  ...     2326.0        552.0   \n",
       "2  Iormina Lucienne 2016-06-30         Active  ...     1728.5        248.0   \n",
       "3     Ruthe Bellina 2018-03-31     New Joiner  ...       72.0          8.0   \n",
       "4     Ilsa Marigold 2016-05-31         Active  ...     2714.0        312.0   \n",
       "\n",
       "   Training Hours  BD Hours  NC Hours  Utilization%  YEAR of Birth  \\\n",
       "0            80.0       0.0       0.0        100.00         1954.0   \n",
       "1             0.0       0.0    1532.0        130.38         1954.0   \n",
       "2            33.0       0.0    1776.0         94.35         1954.0   \n",
       "3            21.0       0.0      59.0          4.72         1954.0   \n",
       "4            72.5       0.0     890.5        139.04         1954.0   \n",
       "\n",
       "          Gender  Leaving Reason  termination_status  \n",
       "0  Not Disclosed    Not Provided                   0  \n",
       "1  Not Disclosed    Not Provided                   0  \n",
       "2  Not Disclosed    Not Provided                   0  \n",
       "3  Not Disclosed    Not Provided                   0  \n",
       "4  Not Disclosed    Not Provided                   0  \n",
       "\n",
       "[5 rows x 23 columns]"
      ]
     },
     "execution_count": 308,
     "metadata": {},
     "output_type": "execute_result"
    }
   ],
   "source": [
    "result.head()"
   ]
  },
  {
   "cell_type": "code",
   "execution_count": 309,
   "id": "5eb56321",
   "metadata": {},
   "outputs": [],
   "source": [
    "# Convert 'Profit Center' from strings to numeric values\n",
    "result['Profit Center'] = result['Profit Center'].str.extract('(\\d+)').astype(int)  # Extract digits and convert to int\n"
   ]
  },
  {
   "cell_type": "code",
   "execution_count": 310,
   "id": "0c80171c",
   "metadata": {},
   "outputs": [
    {
     "data": {
      "text/plain": [
       "3     769\n",
       "2     608\n",
       "1     499\n",
       "5     108\n",
       "6      90\n",
       "7       5\n",
       "10      1\n",
       "4       1\n",
       "9       1\n",
       "8       1\n",
       "11      1\n",
       "Name: Profit Center, dtype: int64"
      ]
     },
     "execution_count": 310,
     "metadata": {},
     "output_type": "execute_result"
    }
   ],
   "source": [
    "result[\"Profit Center\"].value_counts() #validate data"
   ]
  },
  {
   "cell_type": "code",
   "execution_count": 311,
   "id": "f5e95e70",
   "metadata": {},
   "outputs": [
    {
     "data": {
      "image/png": "[encoded data removed]",
      "text/plain": [
       "<Figure size 800x600 with 1 Axes>"
      ]
     },
     "metadata": {},
     "output_type": "display_data"
    }
   ],
   "source": [
    "import matplotlib.pyplot as plt\n",
    "import seaborn as sns\n",
    "\n",
    "# Visualize the class distribution\n",
    "plt.figure(figsize=(8, 6))\n",
    "sns.countplot(x='termination_status', data=result)  \n",
    "plt.title('Class Distribution of Termination Status')\n",
    "plt.xlabel('Termination Status (0: Non-termination, 1: Termination)')\n",
    "plt.ylabel('Count')\n",
    "plt.xticks(rotation=0)\n",
    "plt.show()\n"
   ]
  },
  {
   "cell_type": "code",
   "execution_count": 312,
   "id": "844f224c",
   "metadata": {},
   "outputs": [],
   "source": [
    "# Assuming 'result' is your DataFrame\n",
    "# Convert 'Profit Center' from string to numeric\n",
    "result['Profit Center'] = result['Profit Center'].astype(int)\n"
   ]
  },
  {
   "cell_type": "code",
   "execution_count": 313,
   "id": "1abc15cf",
   "metadata": {},
   "outputs": [
    {
     "name": "stdout",
     "output_type": "stream",
     "text": [
      "<class 'pandas.core.frame.DataFrame'>\n",
      "Int64Index: 2084 entries, 0 to 2083\n",
      "Data columns (total 23 columns):\n",
      " #   Column                 Non-Null Count  Dtype         \n",
      "---  ------                 --------------  -----         \n",
      " 0   Employee No            2084 non-null   int64         \n",
      " 1   Profit Center          2084 non-null   int32         \n",
      " 2   Employee Name_x        2084 non-null   object        \n",
      " 3   Employee Position      2084 non-null   object        \n",
      " 4   Employee Location      2084 non-null   object        \n",
      " 5   People Group           2084 non-null   object        \n",
      " 6   Employee Category      2084 non-null   object        \n",
      " 7   Supervisor name        2084 non-null   object        \n",
      " 8   Join Date              2084 non-null   datetime64[ns]\n",
      " 9   Current Status         2084 non-null   object        \n",
      " 10  Termination Date       316 non-null    datetime64[ns]\n",
      " 11  Total Hours            2084 non-null   int64         \n",
      " 12  Total Available Hours  2084 non-null   float64       \n",
      " 13  Work Hours             2084 non-null   float64       \n",
      " 14  Leave Hours            2084 non-null   float64       \n",
      " 15  Training Hours         2084 non-null   float64       \n",
      " 16  BD Hours               2084 non-null   float64       \n",
      " 17  NC Hours               2084 non-null   float64       \n",
      " 18  Utilization%           2084 non-null   float64       \n",
      " 19  YEAR of Birth          2084 non-null   float64       \n",
      " 20  Gender                 2084 non-null   object        \n",
      " 21  Leaving Reason         2084 non-null   object        \n",
      " 22  termination_status     2084 non-null   int64         \n",
      "dtypes: datetime64[ns](2), float64(8), int32(1), int64(3), object(9)\n",
      "memory usage: 382.6+ KB\n"
     ]
    }
   ],
   "source": [
    "result.info() # validate Data"
   ]
  },
  {
   "cell_type": "code",
   "execution_count": 315,
   "id": "8c678cb3",
   "metadata": {},
   "outputs": [
    {
     "data": {
      "text/plain": [
       "0    1768\n",
       "1     316\n",
       "Name: termination_status, dtype: int64"
      ]
     },
     "execution_count": 315,
     "metadata": {},
     "output_type": "execute_result"
    }
   ],
   "source": [
    "result[\"termination_status\"].value_counts()"
   ]
  },
  {
   "cell_type": "code",
   "execution_count": 335,
   "id": "9eb8271a",
   "metadata": {},
   "outputs": [
    {
     "name": "stdout",
     "output_type": "stream",
     "text": [
      "X shape: (2084, 21)\n",
      "y shape: (2084,)\n",
      "NaN values in X: 0\n",
      "NaN values in y: 0\n"
     ]
    }
   ],
   "source": [
    "# Assuming you already have X and y defined\n",
    "X = result.drop(['Termination Date', 'termination_status'], axis=1)  # Drop target and any unwanted columns\n",
    "y = result['termination_status']  # Target variable\n",
    "\n",
    "# Display the shapes of X and y\n",
    "print(\"X shape:\", X.shape)\n",
    "print(\"y shape:\", y.shape)\n",
    "\n",
    "# Check for any NaN values in X\n",
    "print(\"NaN values in X:\", X.isnull().sum().sum())\n",
    "\n",
    "# Check for any NaN values in y\n",
    "print(\"NaN values in y:\", y.isnull().sum())\n"
   ]
  },
  {
   "cell_type": "code",
   "execution_count": 336,
   "id": "776357d1",
   "metadata": {},
   "outputs": [
    {
     "data": {
      "text/plain": [
       "0"
      ]
     },
     "execution_count": 336,
     "metadata": {},
     "output_type": "execute_result"
    }
   ],
   "source": [
    "y.isnull().sum() #checking null values"
   ]
  },
  {
   "cell_type": "code",
   "execution_count": 339,
   "id": "957b96a2",
   "metadata": {},
   "outputs": [
    {
     "data": {
      "image/png": "[encoded data removed]",
      "text/plain": [
       "<Figure size 640x480 with 1 Axes>"
      ]
     },
     "metadata": {},
     "output_type": "display_data"
    }
   ],
   "source": [
    "importances = model.feature_importances_  # Use appropriate method for your model\n",
    "feature_names = X_train_resampled.columns\n",
    "indices = np.argsort(importances)[::-1]\n",
    "\n",
    "plt.figure()\n",
    "plt.title(\"Feature importances\")\n",
    "plt.bar(range(X_train_resampled.shape[1]), importances[indices], align=\"center\")\n",
    "plt.xticks(range(X_train_resampled.shape[1]), feature_names[indices], rotation=90)\n",
    "plt.xlim([-1, X_train_resampled.shape[1]])\n",
    "plt.show()\n",
    "#checking which variable is most important to least important for better decision making"
   ]
  },
  {
   "cell_type": "code",
   "execution_count": 343,
   "id": "8b5cb488",
   "metadata": {},
   "outputs": [
    {
     "name": "stdout",
     "output_type": "stream",
     "text": [
      "<class 'pandas.core.frame.DataFrame'>\n",
      "Int64Index: 2084 entries, 0 to 2083\n",
      "Data columns (total 21 columns):\n",
      " #   Column                 Non-Null Count  Dtype         \n",
      "---  ------                 --------------  -----         \n",
      " 0   Employee No            2084 non-null   int64         \n",
      " 1   Profit Center          2084 non-null   int32         \n",
      " 2   Employee Name_x        2084 non-null   object        \n",
      " 3   Employee Position      2084 non-null   object        \n",
      " 4   Employee Location      2084 non-null   object        \n",
      " 5   People Group           2084 non-null   object        \n",
      " 6   Employee Category      2084 non-null   object        \n",
      " 7   Supervisor name        2084 non-null   object        \n",
      " 8   Join Date              2084 non-null   datetime64[ns]\n",
      " 9   Current Status         2084 non-null   object        \n",
      " 10  Total Hours            2084 non-null   int64         \n",
      " 11  Total Available Hours  2084 non-null   float64       \n",
      " 12  Work Hours             2084 non-null   float64       \n",
      " 13  Leave Hours            2084 non-null   float64       \n",
      " 14  Training Hours         2084 non-null   float64       \n",
      " 15  BD Hours               2084 non-null   float64       \n",
      " 16  NC Hours               2084 non-null   float64       \n",
      " 17  Utilization%           2084 non-null   float64       \n",
      " 18  YEAR of Birth          2084 non-null   float64       \n",
      " 19  Gender                 2084 non-null   object        \n",
      " 20  Leaving Reason         2084 non-null   object        \n",
      "dtypes: datetime64[ns](1), float64(8), int32(1), int64(2), object(9)\n",
      "memory usage: 350.0+ KB\n"
     ]
    }
   ],
   "source": [
    "X.info() #check X datatype information to validate it"
   ]
  },
  {
   "cell_type": "code",
   "execution_count": 358,
   "id": "7b68611f",
   "metadata": {},
   "outputs": [
    {
     "name": "stdout",
     "output_type": "stream",
     "text": [
      "(2084, 8)\n",
      "(2084,)\n"
     ]
    }
   ],
   "source": [
    "# Strip any leading or trailing spaces from column names\n",
    "result.columns = result.columns.str.strip()\n",
    "\n",
    "# Now select the columns again\n",
    "X = result[['Employee No', 'Total Hours', 'Work Hours', 'Leave Hours', \n",
    "            'Training Hours', 'NC Hours', 'Utilization%', 'YEAR of Birth']]\n",
    "\n",
    "y = result['termination_status']  # Target variable\n",
    "\n",
    "# Display the shapes of X and y\n",
    "print(X.shape)\n",
    "print(y.shape)\n"
   ]
  },
  {
   "cell_type": "code",
   "execution_count": 361,
   "id": "52c031d0",
   "metadata": {},
   "outputs": [
    {
     "name": "stdout",
     "output_type": "stream",
     "text": [
      "Fitting 5 folds for each of 12 candidates, totalling 60 fits\n",
      "Train Accuracy: 0.9848\n",
      "Test Accuracy: 0.9808\n",
      "Train Confusion Matrix:\n",
      "[[1381   33]\n",
      " [  10 1404]]\n",
      "Test Confusion Matrix:\n",
      "[[347   7]\n",
      " [  1  62]]\n",
      "Train Precision: 0.9770\n",
      "Train Recall: 0.9929\n",
      "Train F1 Score: 0.9849\n",
      "Test Precision: 0.8986\n",
      "Test Recall: 0.9841\n",
      "Test F1 Score: 0.9394\n"
     ]
    },
    {
     "data": {
      "image/png": "[encoded data removed]",
      "text/plain": [
       "<Figure size 1000x600 with 1 Axes>"
      ]
     },
     "metadata": {},
     "output_type": "display_data"
    }
   ],
   "source": [
    "X_train, X_test, y_train, y_test = train_test_split(X, y, test_size=0.2, random_state=42, stratify=y)\n",
    "\n",
    "# Apply SMOTE for balancing the dataset\n",
    "smote = SMOTE(random_state=42)\n",
    "X_train_resampled, y_train_resampled = smote.fit_resample(X_train, y_train)\n",
    "\n",
    "# Standardize the features\n",
    "scaler = StandardScaler()\n",
    "X_train_resampled = scaler.fit_transform(X_train_resampled)\n",
    "X_test = scaler.transform(X_test)\n",
    "\n",
    "# Define the model with class weights\n",
    "log_model = LogisticRegression(class_weight='balanced', solver='liblinear')\n",
    "\n",
    "# Set up the hyperparameter grid for tuning\n",
    "param_grid = {\n",
    "    'C': [0.001, 0.01, 0.1, 1, 10, 100],  # Regularization strength\n",
    "    'penalty': ['l1', 'l2'],              # Regularization type\n",
    "}\n",
    "\n",
    "# Implement GridSearchCV for hyperparameter tuning and cross-validation\n",
    "grid_search = GridSearchCV(log_model, param_grid, scoring='f1', cv=5, verbose=1)\n",
    "grid_search.fit(X_train_resampled, y_train_resampled)\n",
    "\n",
    "# Best model from grid search\n",
    "best_model = grid_search.best_estimator_\n",
    "\n",
    "# Predict on test set\n",
    "y_pred = best_model.predict(X_test)\n",
    "y_pred_proba = best_model.predict_proba(X_test)[:, 1]\n",
    "\n",
    "# Calculate metrics for training data\n",
    "train_accuracy = accuracy_score(y_train_resampled, best_model.predict(X_train_resampled))\n",
    "train_precision = precision_score(y_train_resampled, best_model.predict(X_train_resampled))\n",
    "train_recall = recall_score(y_train_resampled, best_model.predict(X_train_resampled))\n",
    "train_f1 = f1_score(y_train_resampled, best_model.predict(X_train_resampled))\n",
    "\n",
    "# Calculate metrics for testing data\n",
    "test_accuracy = accuracy_score(y_test, y_pred)\n",
    "precision = precision_score(y_test, y_pred)\n",
    "recall = recall_score(y_test, y_pred)\n",
    "f1 = f1_score(y_test, y_pred)\n",
    "\n",
    "# Confusion matrices\n",
    "train_conf_matrix = confusion_matrix(y_train_resampled, best_model.predict(X_train_resampled))\n",
    "test_conf_matrix = confusion_matrix(y_test, y_pred)\n",
    "\n",
    "# ROC curve\n",
    "fpr, tpr, _ = roc_curve(y_test, y_pred_proba)\n",
    "roc_auc = auc(fpr, tpr)\n",
    "\n",
    "# Print results\n",
    "print(f'Train Accuracy: {train_accuracy:.4f}')\n",
    "print(f'Test Accuracy: {test_accuracy:.4f}')\n",
    "print('Train Confusion Matrix:')\n",
    "print(train_conf_matrix)\n",
    "print('Test Confusion Matrix:')\n",
    "print(test_conf_matrix)\n",
    "print(f'Train Precision: {train_precision:.4f}')\n",
    "print(f'Train Recall: {train_recall:.4f}')\n",
    "print(f'Train F1 Score: {train_f1:.4f}')\n",
    "print(f'Test Precision: {precision:.4f}')\n",
    "print(f'Test Recall: {recall:.4f}')\n",
    "print(f'Test F1 Score: {f1:.4f}')\n",
    "\n",
    "# Plot ROC curve\n",
    "plt.figure(figsize=(10, 6))\n",
    "plt.plot(fpr, tpr, color='blue', label=f'ROC Curve (area = {roc_auc:.2f})')\n",
    "plt.plot([0, 1], [0, 1], color='red', linestyle='--')\n",
    "plt.title('Receiver Operating Characteristic')\n",
    "plt.xlabel('False Positive Rate')\n",
    "plt.ylabel('True Positive Rate')\n",
    "plt.legend()\n",
    "plt.show()"
   ]
  },
  {
   "cell_type": "markdown",
   "id": "3a10b7ff",
   "metadata": {},
   "source": [
    "Insights: High Accuracy:\n",
    "\n",
    "The model performs well on both the training and test sets, indicating it generalizes well to unseen data.\n",
    "\n",
    "Confusion Matrix: The confusion matrices reveal that the model has a low number of false negatives and false positives, particularly on the test set, which is a positive sign.\n",
    "\n",
    "\n",
    "Precision and Recall: A precision of 0.8986 indicates that the model is reliable when predicting the positive class, while a recall of 0.9841 shows it effectively captures most of the positive instances. \n",
    "\n",
    "\n",
    "F1 Score: The F1 score of 0.9394 suggests a good balance between precision and recall, reflecting robust performance.\n",
    "\n",
    "\n",
    "Conclusion\n",
    "\n",
    "\n",
    "The model exhibits excellent performance on both the training and test datasets, with high accuracy, precision, recall, and F1 scores.\n",
    "\n",
    "\n",
    "The strong performance on the training set suggests effective learning, while the good test results indicate good generalization capabilities.\n",
    "\n",
    "\n",
    "However, the lower precision on the test set indicates a potential area for improvement, possibly by further tuning hyperparameters or exploring different model architectures.\n",
    "\n",
    "\n",
    "Overall, the model is robust for practical applications, but monitoring its precision on the test set could guide future adjustments to improve performance in real-world scenarios."
   ]
  },
  {
   "cell_type": "code",
   "execution_count": null,
   "id": "bcc58ab9",
   "metadata": {},
   "outputs": [],
   "source": []
  }
 ],
 "metadata": {
  "kernelspec": {
   "display_name": "Python 3 (ipykernel)",
   "language": "python",
   "name": "python3"
  },
  "language_info": {
   "codemirror_mode": {
    "name": "ipython",
    "version": 3
   },
   "file_extension": ".py",
   "mimetype": "text/x-python",
   "name": "python",
   "nbconvert_exporter": "python",
   "pygments_lexer": "ipython3",
   "version": "3.11.4"
  }
 },
 "nbformat": 4,
 "nbformat_minor": 5
}
